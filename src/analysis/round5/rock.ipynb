{
 "cells": [
  {
   "cell_type": "code",
   "execution_count": 89,
   "id": "b3e81ce2",
   "metadata": {},
   "outputs": [],
   "source": [
    "import pandas as pd\n",
    "import numpy as np"
   ]
  },
  {
   "cell_type": "code",
   "execution_count": 90,
   "id": "8310ca04",
   "metadata": {},
   "outputs": [
    {
     "data": {
      "text/plain": [
       "'/Users/IvanTang/quant/IMC_Prosperity3_GraniteFlow/data/round5'"
      ]
     },
     "execution_count": 90,
     "metadata": {},
     "output_type": "execute_result"
    }
   ],
   "source": [
    "%pwd"
   ]
  },
  {
   "cell_type": "code",
   "execution_count": 91,
   "id": "50ed2038",
   "metadata": {},
   "outputs": [
    {
     "name": "stdout",
     "output_type": "stream",
     "text": [
      "[Errno 2] No such file or directory: '../../../data/round5'\n",
      "/Users/IvanTang/quant/IMC_Prosperity3_GraniteFlow/data/round5\n"
     ]
    }
   ],
   "source": [
    "%cd ../../../data/round5"
   ]
  },
  {
   "cell_type": "code",
   "execution_count": 92,
   "id": "723d5de3",
   "metadata": {},
   "outputs": [],
   "source": [
    "df1 = pd.read_csv('raw/prices.csv')\n",
    "df2 = pd.read_csv('raw/trades.csv')"
   ]
  },
  {
   "cell_type": "code",
   "execution_count": 93,
   "id": "87e5de84",
   "metadata": {},
   "outputs": [
    {
     "data": {
      "text/plain": [
       "array(['PICNIC_BASKET2', 'VOLCANIC_ROCK_VOUCHER_9750', 'RAINFOREST_RESIN',\n",
       "       'VOLCANIC_ROCK_VOUCHER_9500', 'VOLCANIC_ROCK', 'SQUID_INK',\n",
       "       'VOLCANIC_ROCK_VOUCHER_10250', 'KELP', 'DJEMBES', 'CROISSANTS',\n",
       "       'MAGNIFICENT_MACARONS', 'JAMS', 'VOLCANIC_ROCK_VOUCHER_10000',\n",
       "       'VOLCANIC_ROCK_VOUCHER_10500', 'PICNIC_BASKET1'], dtype=object)"
      ]
     },
     "execution_count": 93,
     "metadata": {},
     "output_type": "execute_result"
    }
   ],
   "source": [
    "products = df1['product'].unique()\n",
    "products"
   ]
  },
  {
   "cell_type": "code",
   "execution_count": 94,
   "id": "dd9c9388",
   "metadata": {},
   "outputs": [],
   "source": [
    "#取出'VOLCANIC_ROCK_VOUCHER_9500',  'VOLCANIC_ROCK_VOUCHER_9750', 'VOLCANIC_ROCK_VOUCHER_10000'\n",
    "df1_rock = df1[df1['product'].isin(['VOLCANIC_ROCK', 'VOLCANIC_ROCK_VOUCHER_9500', 'VOLCANIC_ROCK_VOUCHER_9750', 'VOLCANIC_ROCK_VOUCHER_10000', 'VOLCANIC_ROCK_VOUCHER_10250', 'VOLCANIC_ROCK_VOUCHER_10500'])]\n",
    "\n",
    "df2_rock = df2[df2['symbol'].isin(['VOLCANIC_ROCK', 'VOLCANIC_ROCK_VOUCHER_9500', 'VOLCANIC_ROCK_VOUCHER_9750', 'VOLCANIC_ROCK_VOUCHER_10000', 'VOLCANIC_ROCK_VOUCHER_10250', 'VOLCANIC_ROCK_VOUCHER_10500'])]\n"
   ]
  },
  {
   "cell_type": "code",
   "execution_count": 95,
   "id": "374bd43a",
   "metadata": {},
   "outputs": [
    {
     "name": "stdout",
     "output_type": "stream",
     "text": [
      "rock buyers: ['Camilla' 'Caesar' 'Penelope' 'Pablo' 'Peter'], rock sellers: ['Caesar' 'Peter' 'Pablo' 'Camilla' 'Penelope']\n",
      "rock trader buy: buyer\n",
      "Caesar       15481\n",
      "Camilla     126864\n",
      "Pablo          662\n",
      "Penelope     14966\n",
      "Peter         1439\n",
      "Name: quantity, dtype: int64, rock trader sell: seller\n",
      "Caesar      107649\n",
      "Camilla      14244\n",
      "Pablo        19427\n",
      "Penelope     16459\n",
      "Peter         1633\n",
      "Name: quantity, dtype: int64\n"
     ]
    }
   ],
   "source": [
    "rock_buyers = df2_rock['buyer'].unique()\n",
    "rock_sellers = df2_rock['seller'].unique()\n",
    "print(f\"rock buyers: {rock_buyers}, rock sellers: {rock_sellers}\")\n",
    "#计算每个trader的交易量\n",
    "rock_trader_buy = df2_rock.groupby('buyer')['quantity'].sum()\n",
    "rock_trader_sell = df2_rock.groupby('seller')['quantity'].sum()\n",
    "print(f\"rock trader buy: {rock_trader_buy}, rock trader sell: {rock_trader_sell}\")\n"
   ]
  },
  {
   "cell_type": "code",
   "execution_count": 96,
   "id": "8fb33716",
   "metadata": {},
   "outputs": [
    {
     "data": {
      "text/html": [
       "<div>\n",
       "<style scoped>\n",
       "    .dataframe tbody tr th:only-of-type {\n",
       "        vertical-align: middle;\n",
       "    }\n",
       "\n",
       "    .dataframe tbody tr th {\n",
       "        vertical-align: top;\n",
       "    }\n",
       "\n",
       "    .dataframe thead th {\n",
       "        text-align: right;\n",
       "    }\n",
       "</style>\n",
       "<table border=\"1\" class=\"dataframe\">\n",
       "  <thead>\n",
       "    <tr style=\"text-align: right;\">\n",
       "      <th></th>\n",
       "      <th>timestamp</th>\n",
       "      <th>buyer</th>\n",
       "      <th>seller</th>\n",
       "      <th>symbol</th>\n",
       "      <th>currency</th>\n",
       "      <th>price</th>\n",
       "      <th>quantity</th>\n",
       "    </tr>\n",
       "  </thead>\n",
       "  <tbody>\n",
       "    <tr>\n",
       "      <th>38</th>\n",
       "      <td>3500</td>\n",
       "      <td>Camilla</td>\n",
       "      <td>Caesar</td>\n",
       "      <td>VOLCANIC_ROCK_VOUCHER_10000</td>\n",
       "      <td>SEASHELLS</td>\n",
       "      <td>234.0</td>\n",
       "      <td>14</td>\n",
       "    </tr>\n",
       "    <tr>\n",
       "      <th>39</th>\n",
       "      <td>3500</td>\n",
       "      <td>Caesar</td>\n",
       "      <td>Caesar</td>\n",
       "      <td>VOLCANIC_ROCK_VOUCHER_10000</td>\n",
       "      <td>SEASHELLS</td>\n",
       "      <td>234.0</td>\n",
       "      <td>2</td>\n",
       "    </tr>\n",
       "    <tr>\n",
       "      <th>40</th>\n",
       "      <td>3500</td>\n",
       "      <td>Camilla</td>\n",
       "      <td>Caesar</td>\n",
       "      <td>VOLCANIC_ROCK_VOUCHER_10250</td>\n",
       "      <td>SEASHELLS</td>\n",
       "      <td>64.0</td>\n",
       "      <td>14</td>\n",
       "    </tr>\n",
       "    <tr>\n",
       "      <th>41</th>\n",
       "      <td>3500</td>\n",
       "      <td>Caesar</td>\n",
       "      <td>Caesar</td>\n",
       "      <td>VOLCANIC_ROCK_VOUCHER_10250</td>\n",
       "      <td>SEASHELLS</td>\n",
       "      <td>64.0</td>\n",
       "      <td>2</td>\n",
       "    </tr>\n",
       "    <tr>\n",
       "      <th>42</th>\n",
       "      <td>3500</td>\n",
       "      <td>Camilla</td>\n",
       "      <td>Caesar</td>\n",
       "      <td>VOLCANIC_ROCK_VOUCHER_10500</td>\n",
       "      <td>SEASHELLS</td>\n",
       "      <td>9.0</td>\n",
       "      <td>14</td>\n",
       "    </tr>\n",
       "    <tr>\n",
       "      <th>...</th>\n",
       "      <td>...</td>\n",
       "      <td>...</td>\n",
       "      <td>...</td>\n",
       "      <td>...</td>\n",
       "      <td>...</td>\n",
       "      <td>...</td>\n",
       "      <td>...</td>\n",
       "    </tr>\n",
       "    <tr>\n",
       "      <th>53468</th>\n",
       "      <td>2999500</td>\n",
       "      <td>Penelope</td>\n",
       "      <td>Caesar</td>\n",
       "      <td>VOLCANIC_ROCK_VOUCHER_9500</td>\n",
       "      <td>SEASHELLS</td>\n",
       "      <td>606.0</td>\n",
       "      <td>1</td>\n",
       "    </tr>\n",
       "    <tr>\n",
       "      <th>53469</th>\n",
       "      <td>2999500</td>\n",
       "      <td>Penelope</td>\n",
       "      <td>Camilla</td>\n",
       "      <td>VOLCANIC_ROCK_VOUCHER_9750</td>\n",
       "      <td>SEASHELLS</td>\n",
       "      <td>357.0</td>\n",
       "      <td>14</td>\n",
       "    </tr>\n",
       "    <tr>\n",
       "      <th>53470</th>\n",
       "      <td>2999500</td>\n",
       "      <td>Penelope</td>\n",
       "      <td>Caesar</td>\n",
       "      <td>VOLCANIC_ROCK_VOUCHER_9750</td>\n",
       "      <td>SEASHELLS</td>\n",
       "      <td>357.0</td>\n",
       "      <td>1</td>\n",
       "    </tr>\n",
       "    <tr>\n",
       "      <th>53472</th>\n",
       "      <td>2999600</td>\n",
       "      <td>Caesar</td>\n",
       "      <td>Pablo</td>\n",
       "      <td>VOLCANIC_ROCK</td>\n",
       "      <td>SEASHELLS</td>\n",
       "      <td>10104.0</td>\n",
       "      <td>2</td>\n",
       "    </tr>\n",
       "    <tr>\n",
       "      <th>53475</th>\n",
       "      <td>2999700</td>\n",
       "      <td>Peter</td>\n",
       "      <td>Caesar</td>\n",
       "      <td>VOLCANIC_ROCK</td>\n",
       "      <td>SEASHELLS</td>\n",
       "      <td>10107.0</td>\n",
       "      <td>10</td>\n",
       "    </tr>\n",
       "  </tbody>\n",
       "</table>\n",
       "<p>16474 rows × 7 columns</p>\n",
       "</div>"
      ],
      "text/plain": [
       "       timestamp     buyer   seller                       symbol   currency  \\\n",
       "38          3500   Camilla   Caesar  VOLCANIC_ROCK_VOUCHER_10000  SEASHELLS   \n",
       "39          3500    Caesar   Caesar  VOLCANIC_ROCK_VOUCHER_10000  SEASHELLS   \n",
       "40          3500   Camilla   Caesar  VOLCANIC_ROCK_VOUCHER_10250  SEASHELLS   \n",
       "41          3500    Caesar   Caesar  VOLCANIC_ROCK_VOUCHER_10250  SEASHELLS   \n",
       "42          3500   Camilla   Caesar  VOLCANIC_ROCK_VOUCHER_10500  SEASHELLS   \n",
       "...          ...       ...      ...                          ...        ...   \n",
       "53468    2999500  Penelope   Caesar   VOLCANIC_ROCK_VOUCHER_9500  SEASHELLS   \n",
       "53469    2999500  Penelope  Camilla   VOLCANIC_ROCK_VOUCHER_9750  SEASHELLS   \n",
       "53470    2999500  Penelope   Caesar   VOLCANIC_ROCK_VOUCHER_9750  SEASHELLS   \n",
       "53472    2999600    Caesar    Pablo                VOLCANIC_ROCK  SEASHELLS   \n",
       "53475    2999700     Peter   Caesar                VOLCANIC_ROCK  SEASHELLS   \n",
       "\n",
       "         price  quantity  \n",
       "38       234.0        14  \n",
       "39       234.0         2  \n",
       "40        64.0        14  \n",
       "41        64.0         2  \n",
       "42         9.0        14  \n",
       "...        ...       ...  \n",
       "53468    606.0         1  \n",
       "53469    357.0        14  \n",
       "53470    357.0         1  \n",
       "53472  10104.0         2  \n",
       "53475  10107.0        10  \n",
       "\n",
       "[16474 rows x 7 columns]"
      ]
     },
     "execution_count": 96,
     "metadata": {},
     "output_type": "execute_result"
    }
   ],
   "source": [
    "df2_rock"
   ]
  },
  {
   "cell_type": "code",
   "execution_count": 101,
   "id": "970acbbf",
   "metadata": {},
   "outputs": [
    {
     "name": "stdout",
     "output_type": "stream",
     "text": [
      "       timestamp    person                      symbol  position\n",
      "34          4800  Penelope  VOLCANIC_ROCK_VOUCHER_9500        15\n",
      "44          7000  Penelope  VOLCANIC_ROCK_VOUCHER_9500        30\n",
      "163        21400  Penelope  VOLCANIC_ROCK_VOUCHER_9500        13\n",
      "252        30700  Penelope  VOLCANIC_ROCK_VOUCHER_9500        25\n",
      "261        31200  Penelope  VOLCANIC_ROCK_VOUCHER_9500        14\n",
      "...          ...       ...                         ...       ...\n",
      "32866    2993800  Penelope  VOLCANIC_ROCK_VOUCHER_9500      -432\n",
      "32924    2999300  Penelope  VOLCANIC_ROCK_VOUCHER_9500      -422\n",
      "32926    2999300  Penelope  VOLCANIC_ROCK_VOUCHER_9500      -421\n",
      "32936    2999500  Penelope  VOLCANIC_ROCK_VOUCHER_9500      -407\n",
      "32938    2999500  Penelope  VOLCANIC_ROCK_VOUCHER_9500      -406\n",
      "\n",
      "[1009 rows x 4 columns]\n"
     ]
    }
   ],
   "source": [
    "# 初始化持仓记录：{\"person\": {\"symbol\": net_position}}\n",
    "positions = {}\n",
    "\n",
    "# 存储每个时间点的持仓数据\n",
    "history = []\n",
    "\n",
    "# 遍历每一笔交易\n",
    "for _, row in df2_rock.iterrows():\n",
    "    timestamp = row[\"timestamp\"]\n",
    "    buyer = row[\"buyer\"]\n",
    "    seller = row[\"seller\"]\n",
    "    symbol = row[\"symbol\"]\n",
    "    quantity = row[\"quantity\"]\n",
    "    \n",
    "    # 初始化 buyer 和 seller 的持仓记录（如果不存在）\n",
    "    if buyer not in positions:\n",
    "        positions[buyer] = {}\n",
    "    if seller not in positions:\n",
    "        positions[seller] = {}\n",
    "    if symbol not in positions[buyer]:\n",
    "        positions[buyer][symbol] = 0\n",
    "    if symbol not in positions[seller]:\n",
    "        positions[seller][symbol] = 0\n",
    "    \n",
    "    # 更新持仓：\n",
    "    # buyer 获得 quantity\n",
    "    positions[buyer][symbol] += quantity\n",
    "    # seller 减少 quantity\n",
    "    positions[seller][symbol] -= quantity\n",
    "    \n",
    "    # 记录当前持仓状态（可以按需调整，比如每隔一定时间记录）\n",
    "    history.append({\n",
    "        \"timestamp\": timestamp,\n",
    "        \"person\": buyer,\n",
    "        \"symbol\": symbol,\n",
    "        \"position\": positions[buyer][symbol],\n",
    "    })\n",
    "    history.append({\n",
    "        \"timestamp\": timestamp,\n",
    "        \"person\": seller,\n",
    "        \"symbol\": symbol,\n",
    "        \"position\": positions[seller][symbol],\n",
    "    })\n",
    "\n",
    "# 转换为 DataFrame\n",
    "position_history = pd.DataFrame(history)\n",
    "\n",
    "# 按 person + symbol + timestamp 排序\n",
    "position_history = position_history.sort_values([\"person\", \"symbol\", \"timestamp\"])\n",
    "position_history = position_history[position_history['person'] == 'Penelope']\n",
    "position_history = position_history[position_history['symbol'] == 'VOLCANIC_ROCK_VOUCHER_9500']\n",
    "# 查看结果\n",
    "print(position_history)\n"
   ]
  },
  {
   "cell_type": "code",
   "execution_count": 102,
   "id": "86e4101e",
   "metadata": {},
   "outputs": [],
   "source": [
    "df1_rock = df1_rock[df1_rock['product'] == 'VOLCANIC_ROCK_VOUCHER_9500']"
   ]
  },
  {
   "cell_type": "code",
   "execution_count": 103,
   "id": "fb1f9d85",
   "metadata": {},
   "outputs": [
    {
     "data": {
      "text/plain": [
       "<matplotlib.legend.Legend at 0x1339c54c0>"
      ]
     },
     "execution_count": 103,
     "metadata": {},
     "output_type": "execute_result"
    },
    {
     "data": {
      "image/png": "[encoded data removed]",
      "text/plain": [
       "<Figure size 640x480 with 1 Axes>"
      ]
     },
     "metadata": {},
     "output_type": "display_data"
    }
   ],
   "source": [
    "import matplotlib.pyplot as plt\n",
    "import pandas as pd\n",
    "\n",
    "# 确保时间戳列已排序\n",
    "df1_rock = df1_rock.sort_values('timestamp')\n",
    "position_history = position_history.sort_values('timestamp')\n",
    "\n",
    "# 对齐到最近的 position 记录\n",
    "df_aligned = pd.merge_asof(\n",
    "    df1_rock[['timestamp', 'mid_price']],\n",
    "    position_history[['timestamp', 'position']],\n",
    "    on='timestamp',\n",
    "    direction='nearest'  # 或 'forward'（向前匹配）\n",
    ")\n",
    "\n",
    "# 归一化绘图\n",
    "plt.plot(df_aligned['timestamp'], df_aligned['mid_price'] / df_aligned['mid_price'].mean(), label='mid_price')\n",
    "plt.plot(df_aligned['timestamp'], df_aligned['position'] / df_aligned['position'].mean(), label='position')\n",
    "plt.legend()\n"
   ]
  }
 ],
 "metadata": {
  "kernelspec": {
   "display_name": "machinelearning",
   "language": "python",
   "name": "python3"
  },
  "language_info": {
   "codemirror_mode": {
    "name": "ipython",
    "version": 3
   },
   "file_extension": ".py",
   "mimetype": "text/x-python",
   "name": "python",
   "nbconvert_exporter": "python",
   "pygments_lexer": "ipython3",
   "version": "3.9.15"
  }
 },
 "nbformat": 4,
 "nbformat_minor": 5
}
