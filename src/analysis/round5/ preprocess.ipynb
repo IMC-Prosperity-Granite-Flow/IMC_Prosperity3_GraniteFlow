{
 "cells": [
  {
   "cell_type": "code",
   "execution_count": 2,
   "id": "b3e81ce2",
   "metadata": {},
   "outputs": [],
   "source": [
    "import pandas as pd\n",
    "import numpy as np"
   ]
  },
  {
   "cell_type": "code",
   "execution_count": 22,
   "id": "8310ca04",
   "metadata": {},
   "outputs": [
    {
     "data": {
      "text/plain": [
       "'/Users/IvanTang/quant/IMC_Prosperity3_GraniteFlow/data/data-bottles/round5'"
      ]
     },
     "execution_count": 22,
     "metadata": {},
     "output_type": "execute_result"
    }
   ],
   "source": [
    "%pwd"
   ]
  },
  {
   "cell_type": "code",
   "execution_count": 23,
   "id": "50ed2038",
   "metadata": {},
   "outputs": [
    {
     "name": "stdout",
     "output_type": "stream",
     "text": [
      "/Users/IvanTang/quant/IMC_Prosperity3_GraniteFlow/data/round5\n"
     ]
    }
   ],
   "source": [
    "%cd ../../../data/round5"
   ]
  },
  {
   "cell_type": "code",
   "execution_count": 27,
   "id": "7c3478c3",
   "metadata": {},
   "outputs": [
    {
     "name": "stdout",
     "output_type": "stream",
     "text": [
      "\u001b[1m\u001b[36mpreprocessed\u001b[m\u001b[m/ \u001b[1m\u001b[36mraw\u001b[m\u001b[m/\n"
     ]
    }
   ],
   "source": [
    "%ls"
   ]
  },
  {
   "cell_type": "code",
   "execution_count": null,
   "id": "723d5de3",
   "metadata": {},
   "outputs": [],
   "source": [
    " "
   ]
  }
 ],
 "metadata": {
  "kernelspec": {
   "display_name": "machinelearning",
   "language": "python",
   "name": "python3"
  },
  "language_info": {
   "codemirror_mode": {
    "name": "ipython",
    "version": 3
   },
   "file_extension": ".py",
   "mimetype": "text/x-python",
   "name": "python",
   "nbconvert_exporter": "python",
   "pygments_lexer": "ipython3",
   "version": "3.9.15"
  }
 },
 "nbformat": 4,
 "nbformat_minor": 5
}
