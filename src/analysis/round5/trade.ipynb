{
 "cells": [
  {
   "cell_type": "code",
   "execution_count": 2,
   "id": "14a4c008",
   "metadata": {},
   "outputs": [
    {
     "name": "stdout",
     "output_type": "stream",
     "text": [
      "/Users/IvanTang/quant/IMC_Prosperity3_GraniteFlow/data/round5\n"
     ]
    }
   ],
   "source": [
    "%pwd\n",
    "%cd ../../../data/round5/"
   ]
  },
  {
   "cell_type": "code",
   "execution_count": 4,
   "id": "c6ed864a",
   "metadata": {},
   "outputs": [],
   "source": [
    "import pandas as pd\n",
    "import numpy as np\n",
    "import matplotlib.pyplot as plt"
   ]
  },
  {
   "cell_type": "code",
   "execution_count": 5,
   "id": "3fa00112",
   "metadata": {},
   "outputs": [],
   "source": [
    "df = pd.read_csv('trades.csv')"
   ]
  },
  {
   "cell_type": "code",
   "execution_count": 6,
   "id": "bfa38071",
   "metadata": {},
   "outputs": [
    {
     "data": {
      "text/html": [
       "<div>\n",
       "<style scoped>\n",
       "    .dataframe tbody tr th:only-of-type {\n",
       "        vertical-align: middle;\n",
       "    }\n",
       "\n",
       "    .dataframe tbody tr th {\n",
       "        vertical-align: top;\n",
       "    }\n",
       "\n",
       "    .dataframe thead th {\n",
       "        text-align: right;\n",
       "    }\n",
       "</style>\n",
       "<table border=\"1\" class=\"dataframe\">\n",
       "  <thead>\n",
       "    <tr style=\"text-align: right;\">\n",
       "      <th></th>\n",
       "      <th>timestamp</th>\n",
       "      <th>buyer</th>\n",
       "      <th>seller</th>\n",
       "      <th>symbol</th>\n",
       "      <th>currency</th>\n",
       "      <th>price</th>\n",
       "      <th>quantity</th>\n",
       "    </tr>\n",
       "  </thead>\n",
       "  <tbody>\n",
       "    <tr>\n",
       "      <th>0</th>\n",
       "      <td>0</td>\n",
       "      <td>Caesar</td>\n",
       "      <td>Paris</td>\n",
       "      <td>CROISSANTS</td>\n",
       "      <td>SEASHELLS</td>\n",
       "      <td>4265.0</td>\n",
       "      <td>8</td>\n",
       "    </tr>\n",
       "    <tr>\n",
       "      <th>1</th>\n",
       "      <td>100</td>\n",
       "      <td>Charlie</td>\n",
       "      <td>Paris</td>\n",
       "      <td>RAINFOREST_RESIN</td>\n",
       "      <td>SEASHELLS</td>\n",
       "      <td>9999.0</td>\n",
       "      <td>1</td>\n",
       "    </tr>\n",
       "    <tr>\n",
       "      <th>2</th>\n",
       "      <td>200</td>\n",
       "      <td>Paris</td>\n",
       "      <td>Caesar</td>\n",
       "      <td>CROISSANTS</td>\n",
       "      <td>SEASHELLS</td>\n",
       "      <td>4266.0</td>\n",
       "      <td>8</td>\n",
       "    </tr>\n",
       "    <tr>\n",
       "      <th>3</th>\n",
       "      <td>200</td>\n",
       "      <td>Paris</td>\n",
       "      <td>Caesar</td>\n",
       "      <td>JAMS</td>\n",
       "      <td>SEASHELLS</td>\n",
       "      <td>6520.0</td>\n",
       "      <td>7</td>\n",
       "    </tr>\n",
       "    <tr>\n",
       "      <th>4</th>\n",
       "      <td>200</td>\n",
       "      <td>Paris</td>\n",
       "      <td>Charlie</td>\n",
       "      <td>KELP</td>\n",
       "      <td>SEASHELLS</td>\n",
       "      <td>2046.0</td>\n",
       "      <td>1</td>\n",
       "    </tr>\n",
       "    <tr>\n",
       "      <th>...</th>\n",
       "      <td>...</td>\n",
       "      <td>...</td>\n",
       "      <td>...</td>\n",
       "      <td>...</td>\n",
       "      <td>...</td>\n",
       "      <td>...</td>\n",
       "      <td>...</td>\n",
       "    </tr>\n",
       "    <tr>\n",
       "      <th>53472</th>\n",
       "      <td>2999600</td>\n",
       "      <td>Caesar</td>\n",
       "      <td>Pablo</td>\n",
       "      <td>VOLCANIC_ROCK</td>\n",
       "      <td>SEASHELLS</td>\n",
       "      <td>10104.0</td>\n",
       "      <td>2</td>\n",
       "    </tr>\n",
       "    <tr>\n",
       "      <th>53473</th>\n",
       "      <td>2999700</td>\n",
       "      <td>Charlie</td>\n",
       "      <td>Paris</td>\n",
       "      <td>KELP</td>\n",
       "      <td>SEASHELLS</td>\n",
       "      <td>2011.0</td>\n",
       "      <td>1</td>\n",
       "    </tr>\n",
       "    <tr>\n",
       "      <th>53474</th>\n",
       "      <td>2999700</td>\n",
       "      <td>Charlie</td>\n",
       "      <td>Paris</td>\n",
       "      <td>SQUID_INK</td>\n",
       "      <td>SEASHELLS</td>\n",
       "      <td>1899.0</td>\n",
       "      <td>1</td>\n",
       "    </tr>\n",
       "    <tr>\n",
       "      <th>53475</th>\n",
       "      <td>2999700</td>\n",
       "      <td>Peter</td>\n",
       "      <td>Caesar</td>\n",
       "      <td>VOLCANIC_ROCK</td>\n",
       "      <td>SEASHELLS</td>\n",
       "      <td>10107.0</td>\n",
       "      <td>10</td>\n",
       "    </tr>\n",
       "    <tr>\n",
       "      <th>53476</th>\n",
       "      <td>2999800</td>\n",
       "      <td>Caesar</td>\n",
       "      <td>Paris</td>\n",
       "      <td>DJEMBES</td>\n",
       "      <td>SEASHELLS</td>\n",
       "      <td>13409.0</td>\n",
       "      <td>2</td>\n",
       "    </tr>\n",
       "  </tbody>\n",
       "</table>\n",
       "<p>53477 rows × 7 columns</p>\n",
       "</div>"
      ],
      "text/plain": [
       "       timestamp    buyer   seller            symbol   currency    price  \\\n",
       "0              0   Caesar    Paris        CROISSANTS  SEASHELLS   4265.0   \n",
       "1            100  Charlie    Paris  RAINFOREST_RESIN  SEASHELLS   9999.0   \n",
       "2            200    Paris   Caesar        CROISSANTS  SEASHELLS   4266.0   \n",
       "3            200    Paris   Caesar              JAMS  SEASHELLS   6520.0   \n",
       "4            200    Paris  Charlie              KELP  SEASHELLS   2046.0   \n",
       "...          ...      ...      ...               ...        ...      ...   \n",
       "53472    2999600   Caesar    Pablo     VOLCANIC_ROCK  SEASHELLS  10104.0   \n",
       "53473    2999700  Charlie    Paris              KELP  SEASHELLS   2011.0   \n",
       "53474    2999700  Charlie    Paris         SQUID_INK  SEASHELLS   1899.0   \n",
       "53475    2999700    Peter   Caesar     VOLCANIC_ROCK  SEASHELLS  10107.0   \n",
       "53476    2999800   Caesar    Paris           DJEMBES  SEASHELLS  13409.0   \n",
       "\n",
       "       quantity  \n",
       "0             8  \n",
       "1             1  \n",
       "2             8  \n",
       "3             7  \n",
       "4             1  \n",
       "...         ...  \n",
       "53472         2  \n",
       "53473         1  \n",
       "53474         1  \n",
       "53475        10  \n",
       "53476         2  \n",
       "\n",
       "[53477 rows x 7 columns]"
      ]
     },
     "execution_count": 6,
     "metadata": {},
     "output_type": "execute_result"
    }
   ],
   "source": [
    "df"
   ]
  },
  {
   "cell_type": "code",
   "execution_count": 9,
   "id": "4a51d856",
   "metadata": {},
   "outputs": [
    {
     "data": {
      "text/plain": [
       "['Caesar',\n",
       " 'Charlie',\n",
       " 'Paris',\n",
       " 'Camilla',\n",
       " 'Pablo',\n",
       " 'Penelope',\n",
       " 'Gary',\n",
       " 'Peter',\n",
       " 'Gina',\n",
       " 'Olivia',\n",
       " 'Olga']"
      ]
     },
     "execution_count": 9,
     "metadata": {},
     "output_type": "execute_result"
    }
   ],
   "source": [
    "traders = list(pd.concat([df['buyer'], df['seller']]).unique())\n",
    "traders"
   ]
  },
  {
   "cell_type": "code",
   "execution_count": null,
   "id": "6baf1389",
   "metadata": {},
   "outputs": [
    {
     "data": {
      "text/plain": [
       "array(['CROISSANTS', 'RAINFOREST_RESIN', 'JAMS', 'KELP', 'SQUID_INK',\n",
       "       'PICNIC_BASKET1', 'PICNIC_BASKET2', 'MAGNIFICENT_MACARONS',\n",
       "       'DJEMBES', 'VOLCANIC_ROCK_VOUCHER_10000',\n",
       "       'VOLCANIC_ROCK_VOUCHER_10250', 'VOLCANIC_ROCK_VOUCHER_10500',\n",
       "       'VOLCANIC_ROCK_VOUCHER_9500', 'VOLCANIC_ROCK_VOUCHER_9750',\n",
       "       'VOLCANIC_ROCK'], dtype=object)"
      ]
     },
     "execution_count": 13,
     "metadata": {},
     "output_type": "execute_result"
    }
   ],
   "source": [
    "products = df['symbol'].unique()\n",
    "for product in products:\n",
    "    df_product = df[df['symbol'] == product]\n",
    "    df_product.to_csv(f'{product}_trade.csv', index=False)"
   ]
  }
 ],
 "metadata": {
  "kernelspec": {
   "display_name": "machinelearning",
   "language": "python",
   "name": "python3"
  },
  "language_info": {
   "codemirror_mode": {
    "name": "ipython",
    "version": 3
   },
   "file_extension": ".py",
   "mimetype": "text/x-python",
   "name": "python",
   "nbconvert_exporter": "python",
   "pygments_lexer": "ipython3",
   "version": "3.9.15"
  }
 },
 "nbformat": 4,
 "nbformat_minor": 5
}
