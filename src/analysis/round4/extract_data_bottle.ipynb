{
 "cells": [
  {
   "cell_type": "code",
   "execution_count": 3,
   "id": "b4b2c969",
   "metadata": {},
   "outputs": [
    {
     "data": {
      "text/plain": [
       "'/Users/IvanTang/quant/IMC_Prosperity3_GraniteFlow/src/analysis/round4'"
      ]
     },
     "execution_count": 3,
     "metadata": {},
     "output_type": "execute_result"
    }
   ],
   "source": [
    "%pwd"
   ]
  },
  {
   "cell_type": "code",
   "execution_count": 4,
   "id": "c2f63dbd",
   "metadata": {},
   "outputs": [
    {
     "name": "stdout",
     "output_type": "stream",
     "text": [
      "__init__.py               prices_round_4_day_3.csv  trades_round_4_day_3.csv\n",
      "prices_round_4_day_1.csv  trades_round_4_day_1.csv\n",
      "prices_round_4_day_2.csv  trades_round_4_day_2.csv\n"
     ]
    }
   ],
   "source": [
    "%ls ../../../data/data-bottles/round4"
   ]
  },
  {
   "cell_type": "code",
   "execution_count": 5,
   "id": "b12dfea6",
   "metadata": {},
   "outputs": [
    {
     "name": "stdout",
     "output_type": "stream",
     "text": [
      "/Users/IvanTang/quant/IMC_Prosperity3_GraniteFlow/data/data-bottles/round4\n"
     ]
    }
   ],
   "source": [
    "%cd ../../../data/data-bottles/round4/"
   ]
  },
  {
   "cell_type": "code",
   "execution_count": 1,
   "id": "af25ca05",
   "metadata": {},
   "outputs": [],
   "source": [
    "import pandas as pd\n",
    "import numpy as np"
   ]
  },
  {
   "cell_type": "code",
   "execution_count": 7,
   "id": "cb78beba",
   "metadata": {},
   "outputs": [],
   "source": [
    "df1 = pd.read_csv('prices_round_4_day_1.csv', delimiter = ';')\n",
    "df2 = pd.read_csv('prices_round_4_day_2.csv', delimiter = ';')\n",
    "df3 = pd.read_csv('prices_round_4_day_3.csv', delimiter = ';')\n",
    "df = pd.concat([df1, df2, df3])\n"
   ]
  },
  {
   "cell_type": "code",
   "execution_count": 9,
   "id": "66f10181",
   "metadata": {},
   "outputs": [
    {
     "name": "stdout",
     "output_type": "stream",
     "text": [
      "已保存 CROISSANTS.csv\n",
      "已保存 DJEMBES.csv\n",
      "已保存 JAMS.csv\n",
      "已保存 KELP.csv\n",
      "已保存 MAGNIFICENT_MACARONS.csv\n",
      "已保存 PICNIC_BASKET1.csv\n",
      "已保存 PICNIC_BASKET2.csv\n",
      "已保存 RAINFOREST_RESIN.csv\n",
      "已保存 SQUID_INK.csv\n",
      "已保存 VOLCANIC_ROCK.csv\n",
      "已保存 VOLCANIC_ROCK_VOUCHER_10000.csv\n",
      "已保存 VOLCANIC_ROCK_VOUCHER_10250.csv\n",
      "已保存 VOLCANIC_ROCK_VOUCHER_10500.csv\n",
      "已保存 VOLCANIC_ROCK_VOUCHER_9500.csv\n",
      "已保存 VOLCANIC_ROCK_VOUCHER_9750.csv\n"
     ]
    }
   ],
   "source": [
    "grouped = df.groupby('product')\n",
    "\n",
    "for product, group_df in grouped:\n",
    "    file_name = f'{product}.csv'\n",
    "    group_df.to_csv(file_name, index=False)\n",
    "    print(f'已保存 {file_name}')"
   ]
  }
 ],
 "metadata": {
  "kernelspec": {
   "display_name": "machinelearning",
   "language": "python",
   "name": "python3"
  },
  "language_info": {
   "codemirror_mode": {
    "name": "ipython",
    "version": 3
   },
   "file_extension": ".py",
   "mimetype": "text/x-python",
   "name": "python",
   "nbconvert_exporter": "python",
   "pygments_lexer": "ipython3",
   "version": "3.9.15"
  }
 },
 "nbformat": 4,
 "nbformat_minor": 5
}
