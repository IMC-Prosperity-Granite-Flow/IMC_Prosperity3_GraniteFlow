{
 "cells": [
  {
   "cell_type": "code",
   "execution_count": 3,
   "id": "b71f8f0c",
   "metadata": {},
   "outputs": [],
   "source": [
    "import pandas as pd\n",
    "import numpy as np\n",
    "import matplotlib.pyplot as plt\n",
    "import seaborn as sns"
   ]
  },
  {
   "cell_type": "code",
   "execution_count": 2,
   "id": "6297e27a",
   "metadata": {},
   "outputs": [
    {
     "data": {
      "text/plain": [
       "'/Users/IvanTang/quant/IMC_Prosperity3_GraniteFlow/src/analysis/round2'"
      ]
     },
     "execution_count": 2,
     "metadata": {},
     "output_type": "execute_result"
    }
   ],
   "source": [
    "%pwd"
   ]
  },
  {
   "cell_type": "code",
   "execution_count": null,
   "id": "e0f31544",
   "metadata": {},
   "outputs": [],
   "source": [
    "df1 = pd.read_csv('../../../data/round-2-island-data-bottle/prices_round_2_day_-1.csv', delimiter=';')\n",
    "df2 = pd.read_csv('../../../data/round-2-island-data-bottle/prices_round_2_day_0.csv', delimiter=';')\n",
    "df3 = pd.read_csv('../../../data/round-2-island-data-bottle/prices_round_2_day_1.csv', delimiter=';')\n",
    "df = pd.concat([df1, df2, df3])"
   ]
  },
  {
   "cell_type": "code",
   "execution_count": 8,
   "id": "f10ab90e",
   "metadata": {},
   "outputs": [
    {
     "name": "stdout",
     "output_type": "stream",
     "text": [
      "      day;timestamp;product;bid_price_1;bid_volume_1;bid_price_2;bid_volume_2;bid_price_3;bid_volume_3;ask_price_1;ask_volume_1;ask_price_2;ask_volume_2;ask_price_3;ask_volume_3;mid_price;profit_and_loss\n",
      "0      -1;0;CROISSANTS;4304;112;;;;;4305;112;;;;;4304...                                                                                                                                                   \n",
      "1      -1;0;JAMS;6670;66;6669;137;;;6671;66;6672;137;...                                                                                                                                                   \n",
      "2      -1;0;SQUID_INK;2005;1;2002;31;;;2006;31;;;;;20...                                                                                                                                                   \n",
      "3      -1;0;PICNIC_BASKET1;59284;20;59283;18;;;59294;...                                                                                                                                                   \n",
      "4      -1;0;PICNIC_BASKET2;30606;20;30605;18;;;30612;...                                                                                                                                                   \n",
      "...                                                  ...                                                                                                                                                   \n",
      "79995  1;999900;JAMS;6519;204;;;;;6521;204;;;;;6520.0...                                                                                                                                                   \n",
      "79996  1;999900;RAINFOREST_RESIN;9995;20;;;;;10005;20...                                                                                                                                                   \n",
      "79997  1;999900;SQUID_INK;1799;20;;;;;1802;20;;;;;180...                                                                                                                                                   \n",
      "79998  1;999900;PICNIC_BASKET1;58713;15;58712;21;;;58...                                                                                                                                                   \n",
      "79999  1;999900;PICNIC_BASKET2;30100;36;;;;;30107;36;...                                                                                                                                                   \n",
      "\n",
      "[240000 rows x 1 columns]\n"
     ]
    }
   ],
   "source": [
    "print(df)"
   ]
  }
 ],
 "metadata": {
  "kernelspec": {
   "display_name": "quant",
   "language": "python",
   "name": "python3"
  },
  "language_info": {
   "codemirror_mode": {
    "name": "ipython",
    "version": 3
   },
   "file_extension": ".py",
   "mimetype": "text/x-python",
   "name": "python",
   "nbconvert_exporter": "python",
   "pygments_lexer": "ipython3",
   "version": "3.11.11"
  }
 },
 "nbformat": 4,
 "nbformat_minor": 5
}
