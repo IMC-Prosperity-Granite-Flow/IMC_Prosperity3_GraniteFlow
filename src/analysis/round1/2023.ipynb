{
 "cells": [
  {
   "cell_type": "code",
   "execution_count": null,
   "id": "d5f9e3c6",
   "metadata": {},
   "outputs": [],
   "source": [
    "import pandas as pd\n",
    "df11 = pd.read_csv('../../../data/2023/prices_round_1_day_-2.csv', delimiter=';')\n",
    "df12 = pd.read_csv('../../../data/2023/prices_round_1_day_-1.csv', delimiter=';')\n",
    "df13 = pd.read_csv('../../../data/2023/prices_round_1_day_0.csv', delimiter=';')\n",
    "\n",
    "df21 = pd.read_csv('../../../data/2023/prices_round_2_day_-1.csv', delimiter=';')\n",
    "df22 = pd.read_csv('../../../data/2023/prices_round_2_day_0.csv', delimiter=';')\n",
    "df23 = pd.read_csv('../../../data/2023/prices_round_2_day_1.csv', delimiter=';')\n",
    "\n",
    "df31 = pd.read_csv('../../../data/2023/prices_round_3_day_0.csv', delimiter=';')\n",
    "df32 = pd.read_csv('../../../data/2023/prices_round_3_day_1.csv', delimiter=';')\n",
    "df33 = pd.read_csv('../../../data/2023/prices_round_3_day_2.csv', delimiter=';')\n",
    "\n",
    "df41 = pd.read_csv('../../../data/2023/prices_round_4_day_1.csv', delimiter=';')\n",
    "df42 = pd.read_csv('../../../data/2023/prices_round_4_day_2.csv', delimiter=';')\n",
    "df43 = pd.read_csv('../../../data/2023/prices_round_4_day_3.csv', delimiter=';')\n",
    "\n",
    "df1 = pd.concat([df11, df12, df13])\n",
    "df2 = pd.concat([df21, df22, df23])\n",
    "df3 = pd.concat([df31, df32, df33])\n",
    "df4 = pd.concat([df41, df42, df43])\n",
    "\n",
    "product1 = list(df1['product'].unique())\n",
    "product2 = list(df2['product'].unique())\n",
    "product3 = list(df3['product'].unique())\n",
    "product4 = list(df4['product'].unique())\n",
    "\n",
    "products = product1 + product2 + product3 + product4"
   ]
  },
  {
   "cell_type": "code",
   "execution_count": null,
   "id": "012408b2",
   "metadata": {},
   "outputs": [],
   "source": [
    "product_dfs = {}\n",
    "for df, products in [(df1, product1), (df2, product2), (df3, product3), (df4, product4)]:\n",
    "    for product in products:\n",
    "        product_dfs[product] = df[df['product'] == product]\n",
    "\n"
   ]
  },
  {
   "cell_type": "code",
   "execution_count": null,
   "id": "7a458f24",
   "metadata": {},
   "outputs": [],
   "source": [
    "product = 'UKULELE'\n",
    "df = product_dfs[product]\n",
    "plt.plot(df['timestamp'], df['mid_price'], label=product)\n",
    "plt.show()"
   ]
  }
 ],
 "metadata": {
  "language_info": {
   "name": "python"
  }
 },
 "nbformat": 4,
 "nbformat_minor": 5
}
