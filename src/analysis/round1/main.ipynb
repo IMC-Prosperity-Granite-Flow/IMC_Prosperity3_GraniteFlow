{
 "cells": [
  {
   "cell_type": "code",
   "execution_count": 12,
   "id": "0a73b351",
   "metadata": {},
   "outputs": [
    {
     "data": {
      "text/plain": [
       "'/Users/IvanTang/quant/IMC_Prosperity3_GraniteFlow'"
      ]
     },
     "execution_count": 12,
     "metadata": {},
     "output_type": "execute_result"
    }
   ],
   "source": [
    "import pandas as pd\n",
    "import numpy as np\n",
    "%pwd"
   ]
  },
  {
   "cell_type": "code",
   "execution_count": 16,
   "id": "83e1b1b0",
   "metadata": {},
   "outputs": [],
   "source": [
    "df1 = pd.read_csv('./data/round-1-island-data-bottle/prices_round_1_day_-2.csv', delimiter = \";\")\n",
    "df2 = pd.read_csv('./data/round-1-island-data-bottle/prices_round_1_day_-1.csv', delimiter = \";\")\n",
    "df3 = pd.read_csv('./data/round-1-island-data-bottle/prices_round_1_day_0.csv', delimiter = \";\")"
   ]
  },
  {
   "cell_type": "code",
   "execution_count": 19,
   "id": "61c57a76",
   "metadata": {},
   "outputs": [],
   "source": [
    "df = pd.concat([df1, df2, df3])"
   ]
  },
  {
   "cell_type": "code",
   "execution_count": 22,
   "id": "963dc372",
   "metadata": {},
   "outputs": [],
   "source": [
    "def extract_product_df(df, symbol: str):\n",
    "    df_product = df[df['product'] == symbol]\n",
    "    return df_product"
   ]
  },
  {
   "cell_type": "code",
   "execution_count": 36,
   "id": "7621f8cd",
   "metadata": {},
   "outputs": [],
   "source": [
    "def orderbook_preprocess(df):\n",
    "    \"\"\"\n",
    "    对订单簿数据进行预处理\n",
    "    1.填充NAN为0\n",
    "    2.计算best_bid, best_ask, spread, mid_price, vwap\n",
    "    \"\"\"\n",
    "\n",
    "    #填充orderbook数据,nan填为0\n",
    "    columns = ['ask_price_1', 'ask_volume_1', 'ask_price_2', 'ask_volume_2', 'ask_price_3', 'ask_volume_3', 'bid_price_1', 'bid_volume_1', 'bid_price_2', 'bid_volume_2', 'bid_price_3', 'bid_volume_3']\n",
    "    for column in columns:\n",
    "        df[column] = df[column].fillna(0)\n",
    "    \n",
    "    #计算best_bid, best_ask, spread, mid_price, vwap\n",
    "    df['best_bid'] = df[['bid_price_1', 'bid_price_2', 'bid_price_3']].min(axis=1)\n",
    "    df['best_ask'] = df[['ask_price_1', 'ask_price_2', 'ask_price_3']].max(axis=1)\n",
    "\n",
    "    #计算best_bid, best_ask\n",
    "\n",
    "    def get_best_bid_ask_spread(row):\n",
    "    # 获取有效的买价（去掉NaN） 计算最佳买价\n",
    "        bid_prices = [row['bid_price_1'], row['bid_price_2'], row['bid_price_3']]\n",
    "        bid_prices = [price for price in bid_prices if price != 0]\n",
    "        best_bid = min(bid_prices) if bid_prices else None\n",
    "\n",
    "        # 获取有效的卖价（去掉NaN） 计算最佳卖价\n",
    "        ask_prices = [row['ask_price_1'], row['ask_price_2'], row['ask_price_3']]\n",
    "        ask_prices = [price for price in ask_prices if price != 0]\n",
    "        best_ask = max(ask_prices) if ask_prices else None\n",
    "        \n",
    "        # 计算价差\n",
    "        spread = best_ask - best_bid\n",
    "        return best_bid, best_ask, spread\n",
    "\n",
    "    df[['best_bid', 'best_ask','spread']] = df.apply(get_best_bid_ask_spread, axis=1, result_type='expand')\n",
    "\n",
    "    #计算mid_price \n",
    "    df['mid_price'] = (df['ask_price_1']+ df['bid_price_1']) / 2\n",
    "\n",
    "    #计算vwap\n",
    "    df['vwap'] = (df['ask_price_1']*df['ask_volume_1'] + df['ask_price_2']*df['ask_volume_2'] + df['ask_price_3']*df['ask_volume_3'] + df['bid_price_1']*df['bid_volume_1'] + df['bid_price_2']*df['bid_volume_2'] + df['bid_price_3']*df['bid_volume_3']) / (df['ask_volume_1'] + df['ask_volume_2'] + df['ask_volume_3'] + df['bid_volume_1'] + df['bid_volume_2'] + df['bid_volume_3'])\n",
    "    \n",
    "    #计算orderbook_imbalance\n",
    "    def orderbook_imbalance(row):\n",
    "        \"\"\" 计算订单簿不平衡度 \"\"\"\n",
    "        buy_orders = [(row['bid_price_1'], row['bid_volume_1']), (row['bid_price_2'], row['bid_volume_2']), (row['bid_price_3'], row['bid_volume_3'])]\n",
    "        sell_orders = [(row['ask_price_1'], row['ask_volume_1']), (row['ask_price_2'], row['ask_volume_2']), (row['ask_price_3'], row['ask_volume_3'])]\n",
    "        buy_pressure = sum(amount for price, amount in buy_orders if price != 0)\n",
    "        sell_pressure = sum(amount for price, amount in sell_orders if price != 0)\n",
    "        total_pressure = buy_pressure + sell_pressure\n",
    "        if total_pressure == 0:\n",
    "            return 0\n",
    "        return (buy_pressure - sell_pressure) / total_pressure\n",
    "    \n",
    "    df['orderbook_imbalance'] = df.apply(orderbook_imbalance, axis=1)\n",
    "    \n",
    "    return df"
   ]
  },
  {
   "cell_type": "code",
   "execution_count": 37,
   "id": "d1b9e718",
   "metadata": {},
   "outputs": [],
   "source": [
    "df = orderbook_preprocess(df)"
   ]
  },
  {
   "cell_type": "code",
   "execution_count": 38,
   "id": "f16fc905",
   "metadata": {},
   "outputs": [
    {
     "name": "stdout",
     "output_type": "stream",
     "text": [
      "   day  timestamp           product  bid_price_1  bid_volume_1  bid_price_2  \\\n",
      "0   -2          0  RAINFOREST_RESIN         9996             1       9995.0   \n",
      "1   -2          0              KELP         1998            26          0.0   \n",
      "2   -2          0         SQUID_INK         1998            26          0.0   \n",
      "3   -2        100         SQUID_INK         1999             5       1998.0   \n",
      "4   -2        100  RAINFOREST_RESIN        10000             5       9995.0   \n",
      "\n",
      "   bid_volume_2  bid_price_3  bid_volume_3  ask_price_1  ...  ask_volume_2  \\\n",
      "0          25.0          0.0           0.0        10004  ...          25.0   \n",
      "1           0.0          0.0           0.0         2002  ...           0.0   \n",
      "2           0.0          0.0           0.0         2002  ...           0.0   \n",
      "3          26.0          0.0           0.0         2001  ...           0.0   \n",
      "4          20.0          0.0           0.0        10005  ...           0.0   \n",
      "\n",
      "   ask_price_3  ask_volume_3  mid_price  profit_and_loss  best_bid  best_ask  \\\n",
      "0          0.0           0.0    10000.0              0.0    9995.0   10005.0   \n",
      "1          0.0           0.0     2000.0              0.0    1998.0    2002.0   \n",
      "2          0.0           0.0     2000.0              0.0    1998.0    2002.0   \n",
      "3          0.0           0.0     2000.0              0.0    1998.0    2001.0   \n",
      "4          0.0           0.0    10002.5              0.0    9995.0   10005.0   \n",
      "\n",
      "   spread         vwap  orderbook_imbalance  \n",
      "0    10.0  10000.00000             0.000000  \n",
      "1     4.0   2000.00000             0.000000  \n",
      "2     4.0   2000.00000             0.000000  \n",
      "3     3.0   1999.27451             0.215686  \n",
      "4    10.0  10000.00000             0.111111  \n",
      "\n",
      "[5 rows x 22 columns]\n"
     ]
    }
   ],
   "source": [
    "print(df.head())"
   ]
  },
  {
   "cell_type": "code",
   "execution_count": null,
   "id": "65465168",
   "metadata": {},
   "outputs": [],
   "source": [
    "import math\n",
    "def fractional_derivative(ts, alpha, n_terms=10):\n",
    "    \"\"\"\n",
    "    计算时间序列 ts 的分数阶导数\n",
    "    参数:\n",
    "        ts: 时间序列\n",
    "        alpha: 阶数\n",
    "        n_terms: 历史项的数量，控制内存长短\n",
    "\n",
    "    返回:\n",
    "        分数阶导数序列（长度与 ts 相同，前面一些值为 nan）\n",
    "    \"\"\"\n",
    "\n",
    "    def binomial_coeff(a, k):\n",
    "        return math.gamma(a + 1) / (math.gamma(k + 1) * math.gamma(a - k + 1))\n",
    "\n",
    "    ts = np.asarray(ts)\n",
    "    result = np.full_like(ts, np.nan, dtype=np.float64)\n",
    "\n",
    "    for t in range(n_terms, len(ts)):\n",
    "        val = 0.0\n",
    "        for k in range(n_terms):\n",
    "            coeff = (-1) ** k * binomial_coeff(alpha, k)\n",
    "            val += coeff * ts[t - k]\n",
    "        result[t] = val\n",
    "    return result\n",
    "\n",
    "def rolling_window(ts, window_length: int):\n",
    "    ts_diff = ts.diff(window_length)\n",
    "    ts_vol = ts.rolling(window_length).std()\n",
    "    ts_mean = ts.rolling(window_length).mean()\n",
    "    ts_zscore = (ts - ts_mean) / ts_vol\n",
    "    return ts_diff, ts_vol, ts_mean, ts_zscore\n"
   ]
  },
  {
   "cell_type": "code",
   "execution_count": null,
   "id": "03ad2029",
   "metadata": {},
   "outputs": [],
   "source": [
    "df_kelp = extract_product_df(df, 'KELP')\n",
    "df_resin = extract_product_df(df, 'RAINFOREST_RESIN')\n",
    "df_ink = extract_product_df(df, 'SQUID_INK')"
   ]
  }
 ],
 "metadata": {
  "kernelspec": {
   "display_name": "quant",
   "language": "python",
   "name": "python3"
  },
  "language_info": {
   "codemirror_mode": {
    "name": "ipython",
    "version": 3
   },
   "file_extension": ".py",
   "mimetype": "text/x-python",
   "name": "python",
   "nbconvert_exporter": "python",
   "pygments_lexer": "ipython3",
   "version": "3.11.11"
  }
 },
 "nbformat": 4,
 "nbformat_minor": 5
}
