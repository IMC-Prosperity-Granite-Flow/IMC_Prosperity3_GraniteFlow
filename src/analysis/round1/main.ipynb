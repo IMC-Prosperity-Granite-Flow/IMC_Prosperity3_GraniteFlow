{
 "cells": [
  {
   "cell_type": "code",
   "execution_count": 139,
   "id": "0a73b351",
   "metadata": {},
   "outputs": [
    {
     "data": {
      "text/plain": [
       "'/Users/IvanTang/quant/IMC_Prosperity3_GraniteFlow'"
      ]
     },
     "execution_count": 139,
     "metadata": {},
     "output_type": "execute_result"
    }
   ],
   "source": [
    "import pandas as pd\n",
    "import numpy as np\n",
    "%pwd"
   ]
  },
  {
   "cell_type": "code",
   "execution_count": 140,
   "id": "83e1b1b0",
   "metadata": {},
   "outputs": [],
   "source": [
    "df1 = pd.read_csv('./data/round-1-island-data-bottle/prices_round_1_day_-2.csv', delimiter = \";\")\n",
    "df2 = pd.read_csv('./data/round-1-island-data-bottle/prices_round_1_day_-1.csv', delimiter = \";\")\n",
    "df3 = pd.read_csv('./data/round-1-island-data-bottle/prices_round_1_day_0.csv', delimiter = \";\")"
   ]
  },
  {
   "cell_type": "code",
   "execution_count": 141,
   "id": "61c57a76",
   "metadata": {},
   "outputs": [],
   "source": [
    "df = pd.concat([df1, df2, df3])"
   ]
  },
  {
   "cell_type": "code",
   "execution_count": 142,
   "id": "7621f8cd",
   "metadata": {},
   "outputs": [],
   "source": [
    "def orderbook_preprocess(df):\n",
    "    \"\"\"\n",
    "    对订单簿数据进行预处理\n",
    "    1.填充NAN为0\n",
    "    2.计算best_bid, best_ask, spread, mid_price, vwap, orderbook_imbalance, ask_bid_ratio\n",
    "    \"\"\"\n",
    "\n",
    "    #填充orderbook数据,nan填为0\n",
    "    columns = ['ask_price_1', 'ask_volume_1', 'ask_price_2', 'ask_volume_2', 'ask_price_3', 'ask_volume_3', 'bid_price_1', 'bid_volume_1', 'bid_price_2', 'bid_volume_2', 'bid_price_3', 'bid_volume_3']\n",
    "    for column in columns:\n",
    "        df[column] = df[column].fillna(0)\n",
    "    \n",
    "    #计算best_bid, best_ask, spread, mid_price, vwap\n",
    "    df['best_bid'] = df[['bid_price_1', 'bid_price_2', 'bid_price_3']].min(axis=1)\n",
    "    df['best_ask'] = df[['ask_price_1', 'ask_price_2', 'ask_price_3']].max(axis=1)\n",
    "\n",
    "    #计算best_bid, best_ask\n",
    "\n",
    "    def get_best_bid_ask_spread(row):\n",
    "    # 获取有效的买价（去掉NaN） 计算最佳买价\n",
    "        bid_prices = [row['bid_price_1'], row['bid_price_2'], row['bid_price_3']]\n",
    "        bid_prices = [price for price in bid_prices if price != 0]\n",
    "        best_bid = min(bid_prices) if bid_prices else None\n",
    "\n",
    "        # 获取有效的卖价（去掉NaN） 计算最佳卖价\n",
    "        ask_prices = [row['ask_price_1'], row['ask_price_2'], row['ask_price_3']]\n",
    "        ask_prices = [price for price in ask_prices if price != 0]\n",
    "        best_ask = max(ask_prices) if ask_prices else None\n",
    "        \n",
    "        # 计算价差\n",
    "        spread = best_ask - best_bid\n",
    "        return best_bid, best_ask, spread\n",
    "\n",
    "    df[['best_bid', 'best_ask','spread']] = df.apply(get_best_bid_ask_spread, axis=1, result_type='expand')\n",
    "\n",
    "    #计算mid_price \n",
    "    df['mid_price'] = (df['ask_price_1']+ df['bid_price_1']) / 2\n",
    "\n",
    "    #计算vwap\n",
    "    df['vwap'] = (df['ask_price_1']*df['ask_volume_1'] + df['ask_price_2']*df['ask_volume_2'] + df['ask_price_3']*df['ask_volume_3'] + df['bid_price_1']*df['bid_volume_1'] + df['bid_price_2']*df['bid_volume_2'] + df['bid_price_3']*df['bid_volume_3']) / (df['ask_volume_1'] + df['ask_volume_2'] + df['ask_volume_3'] + df['bid_volume_1'] + df['bid_volume_2'] + df['bid_volume_3'])\n",
    "    \n",
    "    #计算orderbook_imbalance\n",
    "    def orderbook_imbalance(row):\n",
    "        \"\"\" 计算订单簿不平衡度 \"\"\"\n",
    "        buy_orders = [(row['bid_price_1'], row['bid_volume_1']), (row['bid_price_2'], row['bid_volume_2']), (row['bid_price_3'], row['bid_volume_3'])]\n",
    "        sell_orders = [(row['ask_price_1'], row['ask_volume_1']), (row['ask_price_2'], row['ask_volume_2']), (row['ask_price_3'], row['ask_volume_3'])]\n",
    "        buy_pressure = sum(amount for price, amount in buy_orders if price != 0)\n",
    "        sell_pressure = sum(amount for price, amount in sell_orders if price != 0)\n",
    "        total_pressure = buy_pressure + sell_pressure\n",
    "        if total_pressure == 0:\n",
    "            return 0\n",
    "        return (buy_pressure - sell_pressure) / total_pressure\n",
    "    \n",
    "    df['orderbook_imbalance'] = df.apply(orderbook_imbalance, axis=1)\n",
    "\n",
    "    #计算ask_bid_ratio\n",
    "    df['ask_volume'] = df['ask_volume_1'] + df['ask_volume_2'] + df['ask_volume_3']\n",
    "    df['bid_volume'] = df['bid_volume_1'] + df['bid_volume_2'] + df['bid_volume_3']\n",
    "    df['ask_bid_ratio'] = (df['ask_volume'] - df['bid_volume']) / (df['ask_volume'] + df['bid_volume'])\n",
    "    \n",
    "\n",
    "    return df"
   ]
  },
  {
   "cell_type": "code",
   "execution_count": 143,
   "id": "d1b9e718",
   "metadata": {},
   "outputs": [],
   "source": [
    "df = orderbook_preprocess(df)"
   ]
  },
  {
   "cell_type": "code",
   "execution_count": 144,
   "id": "f16fc905",
   "metadata": {},
   "outputs": [
    {
     "name": "stdout",
     "output_type": "stream",
     "text": [
      "   day  timestamp           product  bid_price_1  bid_volume_1  bid_price_2  \\\n",
      "0   -2          0  RAINFOREST_RESIN         9996             1       9995.0   \n",
      "1   -2          0              KELP         1998            26          0.0   \n",
      "2   -2          0         SQUID_INK         1998            26          0.0   \n",
      "3   -2        100         SQUID_INK         1999             5       1998.0   \n",
      "4   -2        100  RAINFOREST_RESIN        10000             5       9995.0   \n",
      "\n",
      "   bid_volume_2  bid_price_3  bid_volume_3  ask_price_1  ...  mid_price  \\\n",
      "0          25.0          0.0           0.0        10004  ...    10000.0   \n",
      "1           0.0          0.0           0.0         2002  ...     2000.0   \n",
      "2           0.0          0.0           0.0         2002  ...     2000.0   \n",
      "3          26.0          0.0           0.0         2001  ...     2000.0   \n",
      "4          20.0          0.0           0.0        10005  ...    10002.5   \n",
      "\n",
      "   profit_and_loss  best_bid  best_ask  spread         vwap  \\\n",
      "0              0.0    9995.0   10005.0    10.0  10000.00000   \n",
      "1              0.0    1998.0    2002.0     4.0   2000.00000   \n",
      "2              0.0    1998.0    2002.0     4.0   2000.00000   \n",
      "3              0.0    1998.0    2001.0     3.0   1999.27451   \n",
      "4              0.0    9995.0   10005.0    10.0  10000.00000   \n",
      "\n",
      "   orderbook_imbalance  ask_volume  bid_volume  ask_bid_ratio  \n",
      "0             0.000000        26.0        26.0       0.000000  \n",
      "1             0.000000        26.0        26.0       0.000000  \n",
      "2             0.000000        26.0        26.0       0.000000  \n",
      "3             0.215686        20.0        31.0      -0.215686  \n",
      "4             0.111111        20.0        25.0      -0.111111  \n",
      "\n",
      "[5 rows x 25 columns]\n"
     ]
    }
   ],
   "source": [
    "print(df.head())"
   ]
  },
  {
   "cell_type": "code",
   "execution_count": 145,
   "id": "963dc372",
   "metadata": {},
   "outputs": [],
   "source": [
    "def extract_product_df(df, symbol: str):\n",
    "    df_product = df[df['product'] == symbol]\n",
    "    return df_product"
   ]
  },
  {
   "cell_type": "code",
   "execution_count": 146,
   "id": "03ad2029",
   "metadata": {},
   "outputs": [],
   "source": [
    "df_kelp = extract_product_df(df, 'KELP')\n",
    "df_resin = extract_product_df(df, 'RAINFOREST_RESIN')\n",
    "df_ink = extract_product_df(df, 'SQUID_INK')"
   ]
  },
  {
   "cell_type": "code",
   "execution_count": 147,
   "id": "7a559d35",
   "metadata": {},
   "outputs": [
    {
     "name": "stdout",
     "output_type": "stream",
     "text": [
      "    day  timestamp product  bid_price_1  bid_volume_1  bid_price_2  \\\n",
      "1    -2          0    KELP         1998            26          0.0   \n",
      "5    -2        100    KELP         2000             5       1999.0   \n",
      "6    -2        200    KELP         1999             1       1998.0   \n",
      "10   -2        300    KELP         1999            27          0.0   \n",
      "13   -2        400    KELP         1999            20          0.0   \n",
      "\n",
      "    bid_volume_2  bid_price_3  bid_volume_3  ask_price_1  ...  mid_price  \\\n",
      "1            0.0          0.0           0.0         2002  ...     2000.0   \n",
      "5            6.0       1998.0          20.0         2002  ...     2001.0   \n",
      "6           30.0          0.0           0.0         2002  ...     2000.5   \n",
      "10           0.0          0.0           0.0         2002  ...     2000.5   \n",
      "13           0.0          0.0           0.0         2002  ...     2000.5   \n",
      "\n",
      "    profit_and_loss  best_bid  best_ask  spread         vwap  \\\n",
      "1               0.0    1998.0    2002.0     4.0  2000.000000   \n",
      "5               0.0    1998.0    2002.0     4.0  1999.882353   \n",
      "6               0.0    1998.0    2002.0     4.0  2000.016129   \n",
      "10              0.0    1999.0    2002.0     3.0  2000.500000   \n",
      "13              0.0    1999.0    2002.0     3.0  2000.500000   \n",
      "\n",
      "    orderbook_imbalance  ask_volume  bid_volume  ask_bid_ratio  \n",
      "1              0.000000        26.0        26.0       0.000000  \n",
      "5              0.215686        20.0        31.0      -0.215686  \n",
      "6              0.000000        31.0        31.0       0.000000  \n",
      "10             0.000000        27.0        27.0       0.000000  \n",
      "13             0.000000        20.0        20.0       0.000000  \n",
      "\n",
      "[5 rows x 25 columns]\n"
     ]
    }
   ],
   "source": [
    "print(df_kelp.head())"
   ]
  },
  {
   "cell_type": "code",
   "execution_count": 148,
   "id": "ad73605a",
   "metadata": {},
   "outputs": [
    {
     "data": {
      "text/plain": [
       "<Axes: xlabel='mid_price', ylabel='Count'>"
      ]
     },
     "execution_count": 148,
     "metadata": {},
     "output_type": "execute_result"
    },
    {
     "data": {
      "image/png": "[encoded data removed]",
      "text/plain": [
       "<Figure size 640x480 with 1 Axes>"
      ]
     },
     "metadata": {},
     "output_type": "display_data"
    }
   ],
   "source": [
    "#可视化\n",
    "import matplotlib.pyplot as plt\n",
    "import seaborn as sns\n",
    "\n",
    "#基本因子分布\n",
    "columns = ['mid_price', 'vwap', 'spread', 'orderbook_imbalance', 'ask_bid_ratio']\n",
    "\n",
    "sns.histplot(df_kelp['mid_price'], kde=True)\n",
    "sns.histplot(df_kelp['vwap'], kde = True)\n"
   ]
  },
  {
   "cell_type": "code",
   "execution_count": 149,
   "id": "0bbca7fe",
   "metadata": {},
   "outputs": [
    {
     "name": "stdout",
     "output_type": "stream",
     "text": [
      "spread\n",
      "3.0    17276\n",
      "4.0    12724\n",
      "Name: count, dtype: int64\n"
     ]
    }
   ],
   "source": [
    "print(df_kelp['spread'].value_counts())"
   ]
  },
  {
   "cell_type": "code",
   "execution_count": null,
   "id": "3fda06a9",
   "metadata": {},
   "outputs": [
    {
     "name": "stdout",
     "output_type": "stream",
     "text": [
      "count    30000.000000\n",
      "mean         0.000060\n",
      "std          0.061267\n",
      "min         -0.636364\n",
      "25%          0.000000\n",
      "50%          0.000000\n",
      "75%          0.015385\n",
      "max          0.621622\n",
      "Name: orderbook_imbalance, dtype: float64\n",
      "Non zero ratio of orderbook imbalacne: 0.4992\n"
     ]
    },
    {
     "data": {
      "text/plain": [
       "<Axes: xlabel='orderbook_imbalance', ylabel='Count'>"
      ]
     },
     "execution_count": 150,
     "metadata": {},
     "output_type": "execute_result"
    },
    {
     "data": {
      "image/png": "[encoded data removed]",
      "text/plain": [
       "<Figure size 640x480 with 1 Axes>"
      ]
     },
     "metadata": {},
     "output_type": "display_data"
    }
   ],
   "source": [
    "print(df_kelp['orderbook_imbalance'].describe())\n",
    "\n",
    "#计算0的个数和非0个数\n",
    "zero_count = df_kelp['orderbook_imbalance'].value_counts().get(0, 0)\n",
    "#计算非0的个数\n",
    "non_zero_ratio = zero_count / len(df_kelp)\n",
    "print(f'Non zero ratio of orderbook imbalance: {non_zero_ratio}')\n",
    "\n",
    "df_kelp_filterd = df[df['orderbook_imbalance']!= 0]\n",
    "sns.histplot(df_kelp_filterd['orderbook_imbalance'], kde = True)\n"
   ]
  },
  {
   "cell_type": "code",
   "execution_count": 151,
   "id": "a040750a",
   "metadata": {},
   "outputs": [
    {
     "name": "stdout",
     "output_type": "stream",
     "text": [
      "count    30000.000000\n",
      "mean        -0.000060\n",
      "std          0.061267\n",
      "min         -0.621622\n",
      "25%         -0.015385\n",
      "50%          0.000000\n",
      "75%          0.000000\n",
      "max          0.636364\n",
      "Name: ask_bid_ratio, dtype: float64\n",
      "Non zero ratio of ask bid ratio: 0.4992\n"
     ]
    },
    {
     "data": {
      "text/plain": [
       "<Axes: xlabel='ask_bid_ratio', ylabel='Count'>"
      ]
     },
     "execution_count": 151,
     "metadata": {},
     "output_type": "execute_result"
    },
    {
     "data": {
      "image/png": "[encoded data removed]",
      "text/plain": [
       "<Figure size 640x480 with 1 Axes>"
      ]
     },
     "metadata": {},
     "output_type": "display_data"
    }
   ],
   "source": [
    "print(df_kelp['ask_bid_ratio'].describe())\n",
    "#计算0的个数和非0个数\n",
    "zero_count = df_kelp['ask_bid_ratio'].value_counts().get(0, 0)\n",
    "#计算非0的个数\n",
    "non_zero_ratio = zero_count / len(df_kelp)\n",
    "print(f'Non zero ratio of ask bid ratio: {non_zero_ratio}')\n",
    "\n",
    "df_kelp_filterd = df_kelp[df_kelp['ask_bid_ratio'] != 0]\n",
    "sns.histplot(df_kelp_filterd['ask_bid_ratio'], kde = True)"
   ]
  },
  {
   "cell_type": "code",
   "execution_count": 152,
   "id": "65465168",
   "metadata": {},
   "outputs": [],
   "source": [
    "import math\n",
    "def fractional_derivative(ts, alpha, n_terms=10):\n",
    "    \"\"\"\n",
    "    计算时间序列 ts 的分数阶导数\n",
    "    参数:\n",
    "        ts: 时间序列\n",
    "        alpha: 阶数\n",
    "        n_terms: 历史项的数量，控制内存长短\n",
    "\n",
    "    返回:\n",
    "        分数阶导数序列（长度与 ts 相同，前面一些值为 nan）\n",
    "    \"\"\"\n",
    "\n",
    "    def binomial_coeff(a, k):\n",
    "        return math.gamma(a + 1) / (math.gamma(k + 1) * math.gamma(a - k + 1))\n",
    "\n",
    "    ts = np.asarray(ts)\n",
    "    result = np.full_like(ts, np.nan, dtype=np.float64)\n",
    "\n",
    "    for t in range(n_terms, len(ts)):\n",
    "        val = 0.0\n",
    "        for k in range(n_terms):\n",
    "            coeff = (-1) ** k * binomial_coeff(alpha, k)\n",
    "            val += coeff * ts[t - k]\n",
    "        result[t] = val\n",
    "    return result\n",
    "\n",
    "def rolling_window(ts, window_length: int):\n",
    "    ts_diff = ts.diff(window_length)\n",
    "    ts_vol = ts.rolling(window_length).std()\n",
    "    ts_mean = ts.rolling(window_length).mean()\n",
    "    ts_zscore = (ts - ts_mean) / ts_vol\n",
    "    return ts_diff, ts_vol, ts_mean, ts_zscore\n"
   ]
  },
  {
   "cell_type": "code",
   "execution_count": 161,
   "id": "5b3f9e58",
   "metadata": {},
   "outputs": [],
   "source": [
    "from scipy.stats import kurtosis\n",
    "\n",
    "def get_return(df):\n",
    "    df = df.copy()\n",
    "    df['mid_price_diff_5'] = df['mid_price'] - df['mid_price'].shift(5)\n",
    "    df['log_return_5'] = np.log(df['mid_price']).diff(5)\n",
    "    df.dropna(inplace=True)\n",
    "    k = kurtosis(df['log_return_5'])\n",
    "    print(\"Kurtosis of log_return_5: \", k)\n",
    "    return df"
   ]
  },
  {
   "cell_type": "code",
   "execution_count": 162,
   "id": "70a5b6fd",
   "metadata": {},
   "outputs": [
    {
     "name": "stdout",
     "output_type": "stream",
     "text": [
      "Kurtosis of log_return_5:  1.8750666843239419\n"
     ]
    }
   ],
   "source": [
    "df_kelp = get_return(df_kelp)"
   ]
  },
  {
   "cell_type": "code",
   "execution_count": 163,
   "id": "b26fd1e9",
   "metadata": {},
   "outputs": [
    {
     "name": "stdout",
     "output_type": "stream",
     "text": [
      "    day  timestamp product  bid_price_1  bid_volume_1  bid_price_2  \\\n",
      "45   -2       1500    KELP         1999            27          0.0   \n",
      "49   -2       1600    KELP         1999            24          0.0   \n",
      "52   -2       1700    KELP         1999            28          0.0   \n",
      "54   -2       1800    KELP         1999            24          0.0   \n",
      "57   -2       1900    KELP         2001             1       1999.0   \n",
      "\n",
      "    bid_volume_2  bid_price_3  bid_volume_3  ask_price_1  ...  best_bid  \\\n",
      "45           0.0          0.0           0.0         2002  ...    1999.0   \n",
      "49           0.0          0.0           0.0         2002  ...    1999.0   \n",
      "52           0.0          0.0           0.0         2001  ...    1999.0   \n",
      "54           0.0          0.0           0.0         2001  ...    1999.0   \n",
      "57          26.0          0.0           0.0         2002  ...    1999.0   \n",
      "\n",
      "    best_ask  spread         vwap  orderbook_imbalance  ask_volume  \\\n",
      "45    2002.0     3.0  2000.500000             0.000000        27.0   \n",
      "49    2002.0     3.0  2000.500000             0.000000        24.0   \n",
      "52    2002.0     3.0  2000.517241            -0.034483        30.0   \n",
      "54    2002.0     3.0  2000.510204            -0.020408        25.0   \n",
      "57    2002.0     3.0  2000.509434             0.018868        26.0   \n",
      "\n",
      "    bid_volume  ask_bid_ratio  mid_price_diff_5  log_return_5  \n",
      "45        27.0       0.000000               0.5       0.00025  \n",
      "49        24.0       0.000000               0.5       0.00025  \n",
      "52        28.0       0.034483              -0.5      -0.00025  \n",
      "54        24.0       0.020408              -1.0      -0.00050  \n",
      "57        27.0      -0.018868               1.5       0.00075  \n",
      "\n",
      "[5 rows x 27 columns]\n",
      "count    29985.000000\n",
      "mean         0.000003\n",
      "std          0.000420\n",
      "min         -0.002939\n",
      "25%         -0.000247\n",
      "50%          0.000000\n",
      "75%          0.000247\n",
      "max          0.005395\n",
      "Name: log_return_5, dtype: float64\n"
     ]
    }
   ],
   "source": [
    "print(df_kelp.head())\n",
    "print(df_kelp['log_return_5'].describe())"
   ]
  },
  {
   "cell_type": "code",
   "execution_count": null,
   "id": "1bd7bd2e",
   "metadata": {},
   "outputs": [
    {
     "name": "stdout",
     "output_type": "stream",
     "text": [
      "Kurtosis of log_return:  nan\n",
      "Kurtosis of log_return:  nan\n",
      "Kurtosis of log_return:  nan\n"
     ]
    },
    {
     "name": "stderr",
     "output_type": "stream",
     "text": [
      "/var/folders/n2/td6lyvzx2pd6703265_bhdl80000gn/T/ipykernel_35223/2208456302.py:4: SettingWithCopyWarning: \n",
      "A value is trying to be set on a copy of a slice from a DataFrame.\n",
      "Try using .loc[row_indexer,col_indexer] = value instead\n",
      "\n",
      "See the caveats in the documentation: https://pandas.pydata.org/pandas-docs/stable/user_guide/indexing.html#returning-a-view-versus-a-copy\n",
      "  df['mid_price_diff_5'] = df['mid_price'] - df['mid_price'].shift(5)\n",
      "/opt/anaconda3/envs/quant/lib/python3.11/site-packages/pandas/core/arraylike.py:399: RuntimeWarning: divide by zero encountered in log\n",
      "  result = getattr(ufunc, method)(*inputs, **kwargs)\n",
      "/var/folders/n2/td6lyvzx2pd6703265_bhdl80000gn/T/ipykernel_35223/2208456302.py:5: SettingWithCopyWarning: \n",
      "A value is trying to be set on a copy of a slice from a DataFrame.\n",
      "Try using .loc[row_indexer,col_indexer] = value instead\n",
      "\n",
      "See the caveats in the documentation: https://pandas.pydata.org/pandas-docs/stable/user_guide/indexing.html#returning-a-view-versus-a-copy\n",
      "  df['log_return_5'] = np.log(df['mid_price_diff']).diff(5)\n",
      "/var/folders/n2/td6lyvzx2pd6703265_bhdl80000gn/T/ipykernel_35223/2208456302.py:6: SettingWithCopyWarning: \n",
      "A value is trying to be set on a copy of a slice from a DataFrame\n",
      "\n",
      "See the caveats in the documentation: https://pandas.pydata.org/pandas-docs/stable/user_guide/indexing.html#returning-a-view-versus-a-copy\n",
      "  df.dropna(inplace=True)\n",
      "/opt/anaconda3/envs/quant/lib/python3.11/site-packages/scipy/stats/_stats_py.py:1127: RuntimeWarning: invalid value encountered in subtract\n",
      "  a_zero_mean = a - mean\n",
      "/var/folders/n2/td6lyvzx2pd6703265_bhdl80000gn/T/ipykernel_35223/2208456302.py:4: SettingWithCopyWarning: \n",
      "A value is trying to be set on a copy of a slice from a DataFrame.\n",
      "Try using .loc[row_indexer,col_indexer] = value instead\n",
      "\n",
      "See the caveats in the documentation: https://pandas.pydata.org/pandas-docs/stable/user_guide/indexing.html#returning-a-view-versus-a-copy\n",
      "  df['mid_price_diff_5'] = df['mid_price'] - df['mid_price'].shift(5)\n",
      "/opt/anaconda3/envs/quant/lib/python3.11/site-packages/pandas/core/arraylike.py:399: RuntimeWarning: divide by zero encountered in log\n",
      "  result = getattr(ufunc, method)(*inputs, **kwargs)\n",
      "/var/folders/n2/td6lyvzx2pd6703265_bhdl80000gn/T/ipykernel_35223/2208456302.py:5: SettingWithCopyWarning: \n",
      "A value is trying to be set on a copy of a slice from a DataFrame.\n",
      "Try using .loc[row_indexer,col_indexer] = value instead\n",
      "\n",
      "See the caveats in the documentation: https://pandas.pydata.org/pandas-docs/stable/user_guide/indexing.html#returning-a-view-versus-a-copy\n",
      "  df['log_return_5'] = np.log(df['mid_price_diff']).diff(5)\n",
      "/var/folders/n2/td6lyvzx2pd6703265_bhdl80000gn/T/ipykernel_35223/2208456302.py:6: SettingWithCopyWarning: \n",
      "A value is trying to be set on a copy of a slice from a DataFrame\n",
      "\n",
      "See the caveats in the documentation: https://pandas.pydata.org/pandas-docs/stable/user_guide/indexing.html#returning-a-view-versus-a-copy\n",
      "  df.dropna(inplace=True)\n",
      "/opt/anaconda3/envs/quant/lib/python3.11/site-packages/scipy/stats/_stats_py.py:1127: RuntimeWarning: invalid value encountered in subtract\n",
      "  a_zero_mean = a - mean\n",
      "/var/folders/n2/td6lyvzx2pd6703265_bhdl80000gn/T/ipykernel_35223/2208456302.py:4: SettingWithCopyWarning: \n",
      "A value is trying to be set on a copy of a slice from a DataFrame.\n",
      "Try using .loc[row_indexer,col_indexer] = value instead\n",
      "\n",
      "See the caveats in the documentation: https://pandas.pydata.org/pandas-docs/stable/user_guide/indexing.html#returning-a-view-versus-a-copy\n",
      "  df['mid_price_diff_5'] = df['mid_price'] - df['mid_price'].shift(5)\n",
      "/opt/anaconda3/envs/quant/lib/python3.11/site-packages/pandas/core/arraylike.py:399: RuntimeWarning: divide by zero encountered in log\n",
      "  result = getattr(ufunc, method)(*inputs, **kwargs)\n",
      "/var/folders/n2/td6lyvzx2pd6703265_bhdl80000gn/T/ipykernel_35223/2208456302.py:5: SettingWithCopyWarning: \n",
      "A value is trying to be set on a copy of a slice from a DataFrame.\n",
      "Try using .loc[row_indexer,col_indexer] = value instead\n",
      "\n",
      "See the caveats in the documentation: https://pandas.pydata.org/pandas-docs/stable/user_guide/indexing.html#returning-a-view-versus-a-copy\n",
      "  df['log_return_5'] = np.log(df['mid_price_diff']).diff(5)\n",
      "/var/folders/n2/td6lyvzx2pd6703265_bhdl80000gn/T/ipykernel_35223/2208456302.py:6: SettingWithCopyWarning: \n",
      "A value is trying to be set on a copy of a slice from a DataFrame\n",
      "\n",
      "See the caveats in the documentation: https://pandas.pydata.org/pandas-docs/stable/user_guide/indexing.html#returning-a-view-versus-a-copy\n",
      "  df.dropna(inplace=True)\n",
      "/opt/anaconda3/envs/quant/lib/python3.11/site-packages/scipy/stats/_stats_py.py:1127: RuntimeWarning: invalid value encountered in subtract\n",
      "  a_zero_mean = a - mean\n"
     ]
    }
   ],
   "source": [
    "#kelp的mid_price_diff\n",
    "from scipy.stats import norm\n"
   ]
  },
  {
   "cell_type": "code",
   "execution_count": 164,
   "id": "ee5a40da",
   "metadata": {},
   "outputs": [
    {
     "name": "stdout",
     "output_type": "stream",
     "text": [
      "Kurtosis of log_return_5:  96.19146451448705\n",
      "    day  timestamp    product  bid_price_1  bid_volume_1  bid_price_2  \\\n",
      "15   -2        500  SQUID_INK         1999             1       1997.0   \n",
      "19   -2        600  SQUID_INK         1997            30          0.0   \n",
      "23   -2        700  SQUID_INK         1999            28          0.0   \n",
      "26   -2        800  SQUID_INK         2002             1       1999.0   \n",
      "27   -2        900  SQUID_INK         1999             2       1998.0   \n",
      "\n",
      "    bid_volume_2  bid_price_3  bid_volume_3  ask_price_1  ...  best_bid  \\\n",
      "15          30.0          0.0           0.0         2000  ...    1997.0   \n",
      "19           0.0          0.0           0.0         2001  ...    1997.0   \n",
      "23           0.0          0.0           0.0         2002  ...    1999.0   \n",
      "26          23.0          0.0           0.0         2003  ...    1999.0   \n",
      "27          30.0          0.0           0.0         2001  ...    1998.0   \n",
      "\n",
      "    best_ask  spread         vwap  orderbook_imbalance  ask_volume  \\\n",
      "15    2000.0     3.0  1998.508197             0.016393        30.0   \n",
      "19    2001.0     4.0  1999.000000             0.000000        30.0   \n",
      "23    2002.0     3.0  2000.500000             0.000000        28.0   \n",
      "26    2003.0     4.0  2001.021277             0.021277        23.0   \n",
      "27    2001.0     3.0  1999.483871             0.032258        30.0   \n",
      "\n",
      "    bid_volume  ask_bid_ratio  mid_price_diff_5  log_return_5  \n",
      "15        31.0      -0.016393              -0.5     -0.000250  \n",
      "19        30.0       0.000000              -1.0     -0.000500  \n",
      "23        28.0       0.000000               2.0      0.001000  \n",
      "26        24.0      -0.021277               4.0      0.002000  \n",
      "27        32.0      -0.032258               2.0      0.001001  \n",
      "\n",
      "[5 rows x 27 columns]\n"
     ]
    }
   ],
   "source": [
    "df_ink = get_return(df_ink)\n",
    "print(df_ink.head())"
   ]
  },
  {
   "cell_type": "code",
   "execution_count": null,
   "id": "e9e3651f",
   "metadata": {},
   "outputs": [
    {
     "data": {
      "text/plain": [
       "<Axes: xlabel='mid_price_diff', ylabel='Count'>"
      ]
     },
     "execution_count": 109,
     "metadata": {},
     "output_type": "execute_result"
    },
    {
     "data": {
      "image/png": "[encoded data removed]",
      "text/plain": [
       "<Figure size 640x480 with 1 Axes>"
      ]
     },
     "metadata": {},
     "output_type": "display_data"
    }
   ],
   "source": [
    "sns.histplot(df_ink['mid_price_diff'])"
   ]
  },
  {
   "cell_type": "code",
   "execution_count": 167,
   "id": "d212b2da",
   "metadata": {},
   "outputs": [
    {
     "name": "stdout",
     "output_type": "stream",
     "text": [
      "15      -0.000250\n",
      "19      -0.000500\n",
      "23       0.001000\n",
      "26       0.002000\n",
      "27       0.001001\n",
      "           ...   \n",
      "29986   -0.000546\n",
      "29989    0.000819\n",
      "29993    0.001637\n",
      "29994    0.002997\n",
      "29998    0.004905\n",
      "Name: log_return_5, Length: 29995, dtype: float64\n"
     ]
    }
   ],
   "source": [
    "print(df_ink['log_return_5'])"
   ]
  },
  {
   "cell_type": "code",
   "execution_count": 171,
   "id": "78982561",
   "metadata": {},
   "outputs": [],
   "source": [
    "def IC_IR(df, factor_column: str, return_column: str, risk_free_rate: float):\n",
    "    \"\"\"\n",
    "    Calculate the Information Coefficient (IC) and Implied Risk-Free Rate (IRR) of a factor using the CAPM model.\n",
    "    :param df: DataFrame with columns for the factor, return, and market return.\n",
    "    :param factor_column: Name of the column containing the factor values.\n",
    "    :param return_column: Name of the column containing the return values.\n",
    "    :param risk_free_rate: Risk-free rate used in the CAPM model.\n",
    "    :return: Tuple of the IC and IRR values.\n",
    "    \"\"\"\n",
    "    # Calculate the market return\n",
    "    market_return = df[return_column].mean()\n",
    "    # Calculate the CAPM beta\n",
    "    beta = (df[return_column] - risk_free_rate - df[factor_column] * market_return) / (df[factor_column] ** 2)\n",
    "\n",
    "    # Calculate the CAPM alpha\n",
    "    alpha = market_return - risk_free_rate - beta * df[factor_column]\n",
    "\n",
    "    # Calculate the Information Coefficient (IC)\n",
    "    ic = (beta ** 2) / (1 - beta ** 2)\n",
    "\n",
    "    # Calculate the Implied Risk-Free Rate (IRR)\n",
    "    irr = (1 + alpha) / (1 + beta)\n",
    "    return ic, irr\n"
   ]
  },
  {
   "cell_type": "code",
   "execution_count": 176,
   "id": "2dca9fb7",
   "metadata": {},
   "outputs": [],
   "source": [
    "df_ink['kurt_50'] = df_ink['log_return_5'].rolling(50).apply(kurtosis)\n",
    "df_ink.dropna(inplace=True)\n",
    "ic, irr = IC_IR(df_ink, 'log_return_5', 'kurt_50', 0)\n",
    "#print(ic, irr)\n"
   ]
  },
  {
   "cell_type": "code",
   "execution_count": null,
   "id": "8a0b5cc5",
   "metadata": {},
   "outputs": [
    {
     "name": "stdout",
     "output_type": "stream",
     "text": [
      "count    26778.000000\n",
      "mean        -1.000000\n",
      "std          0.000036\n",
      "min         -1.005501\n",
      "25%         -1.000000\n",
      "50%         -1.000000\n",
      "75%         -1.000000\n",
      "max         -1.000000\n",
      "dtype: float64\n"
     ]
    }
   ],
   "source": [
    "print(ic.describe())\n",
    "sns.histplot(ic, kde=False)"
   ]
  },
  {
   "cell_type": "code",
   "execution_count": null,
   "id": "b51b291e",
   "metadata": {},
   "outputs": [],
   "source": [
    "def calculate_factors(df):\n",
    "    \"\"\"\n",
    "    计算因子：\n",
    "    订单簿因子：orderbook_imbalance, ask_bid_ratio（已实现）\n",
    "    基本因子：对数收益率（5）， 波动率（10）\n",
    "    肥尾因子：kurt(50)\n",
    "    衍生因子：上述的1阶差分和1/2阶差分\n",
    "    \"\"\"\n",
    "    df['log_return5'] = np.log(df['mid_price']).diff(5)\n",
    "    df['vol10'] = df['mid_price'].rolling(10).std()\n",
    "    df['kurt50'] = df['log_return_5'].rolling(10).kurt()\n",
    "    df['orderbook_imbalance_5_1/2'] = fractional_derivative(df['orderbook_imbalance'], 1/2, 5)\n",
    "    df['orderbook_imbalance_5_1'] = fractional_derivative(df['orderbook_imbalance'], 1, 5)\n",
    "    df['ask_bid_ratio_5_1/2'] = fractional_derivative(df['ask_bid_ratio'], 1/2, 5)\n",
    "    df['ask_bid_ratio_5_1'] = fractional_derivative(df['ask_bid_ratio'], 1, 5)\n",
    "    df['vol10_5_1/2'] = fractional_derivative(df['vol10'], 0.5, 5)\n",
    "    df['vol10_5_1'] = fractional_derivative(df['vol10'], 1, 5)\n",
    "    df['kurt50_5_1/2'] = fractional_derivative(df['kurt50'], 0.5, 5)\n",
    "    df['kurt_50_1'] = fractional_derivative(df['kurt50'], 1, 5)\n",
    "    return df"
   ]
  },
  {
   "cell_type": "code",
   "execution_count": 2,
   "id": "e2996000",
   "metadata": {},
   "outputs": [
    {
     "ename": "NameError",
     "evalue": "name 'df_kelp' is not defined",
     "output_type": "error",
     "traceback": [
      "\u001b[31m---------------------------------------------------------------------------\u001b[39m",
      "\u001b[31mNameError\u001b[39m                                 Traceback (most recent call last)",
      "\u001b[36mCell\u001b[39m\u001b[36m \u001b[39m\u001b[32mIn[2]\u001b[39m\u001b[32m, line 1\u001b[39m\n\u001b[32m----> \u001b[39m\u001b[32m1\u001b[39m df_kelp = calculate_factors(\u001b[43mdf_kelp\u001b[49m)\n",
      "\u001b[31mNameError\u001b[39m: name 'df_kelp' is not defined"
     ]
    }
   ],
   "source": [
    "df_kelp = calculate_factors(df_kelp)"
   ]
  }
 ],
 "metadata": {
  "kernelspec": {
   "display_name": "quant",
   "language": "python",
   "name": "python3"
  },
  "language_info": {
   "codemirror_mode": {
    "name": "ipython",
    "version": 3
   },
   "file_extension": ".py",
   "mimetype": "text/x-python",
   "name": "python",
   "nbconvert_exporter": "python",
   "pygments_lexer": "ipython3",
   "version": "3.11.11"
  }
 },
 "nbformat": 4,
 "nbformat_minor": 5
}
