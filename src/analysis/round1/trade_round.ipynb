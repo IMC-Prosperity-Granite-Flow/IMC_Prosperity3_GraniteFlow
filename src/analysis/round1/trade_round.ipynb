{
 "cells": [
  {
   "cell_type": "code",
   "execution_count": 10,
   "id": "d3e330bb",
   "metadata": {},
   "outputs": [
    {
     "name": "stdout",
     "output_type": "stream",
     "text": [
      "\u001b[1m\u001b[36m__pycache__\u001b[m\u001b[m/         kelp_prediction.csv  price_round.ipynb\n",
      "factor_pipeline.py   main.py              trade_round.ipynb\n"
     ]
    }
   ],
   "source": [
    "%ls"
   ]
  },
  {
   "cell_type": "code",
   "execution_count": 13,
   "id": "db6ad766",
   "metadata": {},
   "outputs": [
    {
     "name": "stdout",
     "output_type": "stream",
     "text": [
      "prices_round_1_day_-1.csv  trades_round_1_day_-1.csv\n",
      "prices_round_1_day_-2.csv  trades_round_1_day_-2.csv\n",
      "prices_round_1_day_0.csv   trades_round_1_day_0.csv\n"
     ]
    }
   ],
   "source": [
    "%ls ../../../data/round-1-island-data-bottle/"
   ]
  },
  {
   "cell_type": "code",
   "execution_count": 18,
   "id": "652b83fa",
   "metadata": {},
   "outputs": [],
   "source": [
    "import pandas as pd\n",
    "import numpy as np\n",
    "df1 = pd.read_csv('../../../data/round-1-island-data-bottle/trades_round_1_day_-2.csv', delimiter=';')\n",
    "df2 = pd.read_csv('../../../data/round-1-island-data-bottle/trades_round_1_day_-1.csv', delimiter = ';')\n",
    "df3 = pd.read_csv('../../../data/round-1-island-data-bottle/trades_round_1_day_0.csv', delimiter = ';')\n",
    "\n",
    "df = pd.concat([df1, df2, df3])"
   ]
  },
  {
   "cell_type": "code",
   "execution_count": 19,
   "id": "9655daf5",
   "metadata": {},
   "outputs": [
    {
     "name": "stdout",
     "output_type": "stream",
     "text": [
      "      timestamp  buyer  seller            symbol   currency   price  quantity\n",
      "0             0    NaN     NaN              KELP  SEASHELLS  2002.0         1\n",
      "1             0    NaN     NaN  RAINFOREST_RESIN  SEASHELLS  9996.0         1\n",
      "2             0    NaN     NaN  RAINFOREST_RESIN  SEASHELLS  9996.0         1\n",
      "3             0    NaN     NaN         SQUID_INK  SEASHELLS  2002.0         1\n",
      "4           100    NaN     NaN              KELP  SEASHELLS  2002.0         6\n",
      "...         ...    ...     ...               ...        ...     ...       ...\n",
      "8177     999500    NaN     NaN              KELP  SEASHELLS  2032.0         2\n",
      "8178     999500    NaN     NaN  RAINFOREST_RESIN  SEASHELLS  9995.0         2\n",
      "8179     999500    NaN     NaN         SQUID_INK  SEASHELLS  1830.0         2\n",
      "8180     999600    NaN     NaN              KELP  SEASHELLS  2032.0         1\n",
      "8181     999600    NaN     NaN         SQUID_INK  SEASHELLS  1832.0         1\n",
      "\n",
      "[24886 rows x 7 columns]\n"
     ]
    }
   ],
   "source": [
    "print(df)"
   ]
  }
 ],
 "metadata": {
  "kernelspec": {
   "display_name": "quant",
   "language": "python",
   "name": "python3"
  },
  "language_info": {
   "codemirror_mode": {
    "name": "ipython",
    "version": 3
   },
   "file_extension": ".py",
   "mimetype": "text/x-python",
   "name": "python",
   "nbconvert_exporter": "python",
   "pygments_lexer": "ipython3",
   "version": "3.11.11"
  }
 },
 "nbformat": 4,
 "nbformat_minor": 5
}
