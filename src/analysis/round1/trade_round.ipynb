{
 "cells": [
  {
   "cell_type": "code",
   "execution_count": null,
   "id": "652b83fa",
   "metadata": {},
   "outputs": [],
   "source": [
    "import pandas as pd\n",
    "import numpy as np\n",
    "\n",
    "df = pd.read_csv('./data/analysis/round1/trade_round_1_day_-2.csv')\n",
    "df = pd.read_csv('./data/analysis/round1/trade_round_1_day_-1.csv')\n",
    "df = pd.read_csv('./data/analysis/round1/trade_round_1_day_0.csv')"
   ]
  }
 ],
 "metadata": {
  "language_info": {
   "name": "python"
  }
 },
 "nbformat": 4,
 "nbformat_minor": 5
}
