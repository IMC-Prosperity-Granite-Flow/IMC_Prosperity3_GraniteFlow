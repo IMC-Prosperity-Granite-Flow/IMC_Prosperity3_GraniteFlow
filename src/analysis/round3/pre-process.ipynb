{
 "cells": [
  {
   "cell_type": "code",
   "execution_count": 1,
   "id": "56795065",
   "metadata": {},
   "outputs": [
    {
     "data": {
      "text/plain": [
       "'/Users/IvanTang/quant/IMC_Prosperity3_GraniteFlow/src/analysis/round3'"
      ]
     },
     "execution_count": 1,
     "metadata": {},
     "output_type": "execute_result"
    }
   ],
   "source": [
    "%pwd"
   ]
  },
  {
   "cell_type": "code",
   "execution_count": 2,
   "id": "31bdc279",
   "metadata": {},
   "outputs": [
    {
     "name": "stdout",
     "output_type": "stream",
     "text": [
      "/Users/IvanTang/quant/IMC_Prosperity3_GraniteFlow/data/round3/days\n"
     ]
    }
   ],
   "source": [
    "%cd ../../../data/round3/days/"
   ]
  },
  {
   "cell_type": "code",
   "execution_count": 3,
   "id": "56f3a7a5",
   "metadata": {},
   "outputs": [],
   "source": [
    "import pandas as pd\n",
    "import numpy as np"
   ]
  },
  {
   "cell_type": "code",
   "execution_count": 4,
   "id": "35faa88d",
   "metadata": {},
   "outputs": [],
   "source": [
    "df_mid_0 = pd.read_csv('mid_price_day0.csv')\n",
    "df_mid_1 = pd.read_csv('mid_price_day1.csv')\n",
    "df_mid_2 = pd.read_csv('mid_price_day2.csv')\n"
   ]
  },
  {
   "cell_type": "code",
   "execution_count": null,
   "id": "df23e8c0",
   "metadata": {},
   "outputs": [],
   "source": [
    "#补充时间序列\n",
    "df_mid_0['T'] = (7 - df_mid_0['timestamp'] * 0.0001 / 100  ) / 365\n",
    "df_mid_1['T'] = (6 - df_mid_1['timestamp'] * 0.0001 / 100  ) / 365\n",
    "df_mid_2['T'] = (5 - df_mid_2['timestamp'] * 0.0001 / 100  ) / 365"
   ]
  },
  {
   "cell_type": "code",
   "execution_count": null,
   "id": "57d07d38",
   "metadata": {},
   "outputs": [],
   "source": [
    "from scipy.stats import norm\n",
    "from scipy.optimize import minimize_scalar\n",
    "import numpy as np\n",
    "\n",
    "def bs_call_price(S, K, T, r, sigma):\n",
    "    d1 = (np.log(S/K) + (r + 0.5 * sigma**2)*T) / (sigma*np.sqrt(T))\n",
    "    d2 = d1 - sigma*np.sqrt(T)\n",
    "    return S * norm.cdf(d1) - K * np.exp(-r*T) * norm.cdf(d2)\n",
    "\n",
    "def implied_volatility(S, K, T, r, market_price):\n",
    "    loss_fn = lambda sigma: (bs_call_price(S, K, T, r, sigma) - market_price)**2\n",
    "    result = minimize_scalar(loss_fn, bounds=(1e-4, 3.0), method='bounded')\n",
    "    return result.x\n",
    "\n",
    "def calculate_iv(df):\n",
    "    df = df.copy()\n",
    "    strick_prices = [9500, 9750, 10000, 10250, 10500]\n",
    "    for strick_price in strick_prices:\n",
    "        df['iv_' + str(strick_price)] = df.apply(lambda row: implied_volatility(\n",
    "            row['VOLCANIC_ROCK'], strick_price, row['T'], 0, row['VOLCANIC_ROCK_VOUCHER_' + str(strick_price)]), axis=1)\n",
    "    return df\n"
   ]
  },
  {
   "cell_type": "code",
   "execution_count": 7,
   "id": "16b6554d",
   "metadata": {},
   "outputs": [],
   "source": [
    "def calculate_moneyness(df):\n",
    "    df = df.copy()\n",
    "    strike_prices = [9500, 9750, 10000, 10250, 10500]\n",
    "    for strike in strike_prices:\n",
    "        df[f'm_{strike}'] = df.apply(lambda row: np.log(strike / row['VOLCANIC_ROCK']) / np.sqrt(row['T']), axis=1)\n",
    "    return df\n",
    "\n",
    "def fit_iv_curve(df):\n",
    "    \"\"\"返回每个时间点 t 的 beta 系数（β₀, β₁, β₂）\"\"\"\n",
    "    betas = []\n",
    "\n",
    "    for idx, row in df.iterrows():\n",
    "        m_values = []\n",
    "        iv_values = []\n",
    "\n",
    "        for strike in [9500, 9750, 10000, 10250, 10500]:\n",
    "            m = row[f'm_{strike}']\n",
    "            iv = row[f'iv_{strike}']\n",
    "            if 0 < iv < 2:  # 排除极端值\n",
    "                m_values.append(m)\n",
    "                iv_values.append(iv)\n",
    "\n",
    "        if len(m_values) >= 3:\n",
    "            X = np.column_stack([np.ones(len(m_values)), m_values, np.square(m_values)])\n",
    "            beta = np.linalg.lstsq(X, iv_values, rcond=None)[0]\n",
    "        else:\n",
    "            beta = [np.nan, np.nan, np.nan]\n",
    "\n",
    "        betas.append(beta)\n",
    "\n",
    "    df[['beta_0', 'beta_1', 'beta_2']] = pd.DataFrame(betas, index=df.index)\n",
    "    return df\n",
    "\n",
    "\n",
    "def calculate_base_iv(df):\n",
    "    df['base_iv'] = df['beta_0']  # 因为在 m = 0 时，β₁·m + β₂·m² 都为0\n",
    "    return df"
   ]
  },
  {
   "cell_type": "code",
   "execution_count": 8,
   "id": "b68dbdc9",
   "metadata": {},
   "outputs": [],
   "source": [
    "def preprocess(df):\n",
    "    df = df.copy()\n",
    "    df = calculate_iv(df)\n",
    "    df = calculate_moneyness(df)\n",
    "    df = fit_iv_curve(df)\n",
    "    df = calculate_base_iv(df)\n",
    "    return df"
   ]
  },
  {
   "cell_type": "code",
   "execution_count": 10,
   "id": "1f8a8bf9",
   "metadata": {},
   "outputs": [],
   "source": [
    "df_mid_0 = preprocess(df_mid_0)\n",
    "df_mid_1 = preprocess(df_mid_1)\n",
    "df_mid_2 = preprocess(df_mid_2)\n",
    "df_mid_0.to_csv('day0.csv', index=False)\n",
    "df_mid_1.to_csv('day1.csv', index=False)\n",
    "df_mid_2.to_csv('day2.csv', index=False)"
   ]
  }
 ],
 "metadata": {
  "kernelspec": {
   "display_name": "machinelearning",
   "language": "python",
   "name": "python3"
  },
  "language_info": {
   "codemirror_mode": {
    "name": "ipython",
    "version": 3
   },
   "file_extension": ".py",
   "mimetype": "text/x-python",
   "name": "python",
   "nbconvert_exporter": "python",
   "pygments_lexer": "ipython3",
   "version": "3.9.15"
  }
 },
 "nbformat": 4,
 "nbformat_minor": 5
}
