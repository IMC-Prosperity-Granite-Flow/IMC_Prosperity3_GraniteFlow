{
 "cells": [
  {
   "cell_type": "code",
   "execution_count": 2,
   "id": "56795065",
   "metadata": {},
   "outputs": [
    {
     "data": {
      "text/plain": [
       "'/Users/IvanTang/quant/IMC_Prosperity3_GraniteFlow/src/analysis/round3'"
      ]
     },
     "execution_count": 2,
     "metadata": {},
     "output_type": "execute_result"
    }
   ],
   "source": [
    "%pwd"
   ]
  },
  {
   "cell_type": "code",
   "execution_count": 3,
   "id": "31bdc279",
   "metadata": {},
   "outputs": [
    {
     "name": "stdout",
     "output_type": "stream",
     "text": [
      "/Users/IvanTang/quant/IMC_Prosperity3_GraniteFlow/data/round3/days\n"
     ]
    }
   ],
   "source": [
    "%cd ../../../data/round3/days/"
   ]
  },
  {
   "cell_type": "code",
   "execution_count": 4,
   "id": "56f3a7a5",
   "metadata": {},
   "outputs": [],
   "source": [
    "import pandas as pd\n",
    "import numpy as np"
   ]
  },
  {
   "cell_type": "code",
   "execution_count": 5,
   "id": "35faa88d",
   "metadata": {},
   "outputs": [],
   "source": [
    "df_mid_0 = pd.read_csv('mid_price_day0.csv')\n",
    "df_mid_1 = pd.read_csv('mid_price_day1.csv')\n",
    "df_mid_2 = pd.read_csv('mid_price_day2.csv')\n"
   ]
  },
  {
   "cell_type": "code",
   "execution_count": 7,
   "id": "df23e8c0",
   "metadata": {},
   "outputs": [],
   "source": [
    "#补充时间序列\n",
    "df_mid_0['T'] = (7 - df_mid_0['timestamp'] * 0.0001 / 100  ) / 365\n",
    "df_mid_1['T'] = (6 - df_mid_1['timestamp'] * 0.0001 / 100  ) / 365\n",
    "df_mid_2['T'] = (5 - df_mid_2['timestamp'] * 0.0001 / 100  ) / 365"
   ]
  },
  {
   "cell_type": "code",
   "execution_count": 20,
   "id": "57d07d38",
   "metadata": {},
   "outputs": [],
   "source": [
    "from scipy.stats import norm\n",
    "from scipy.optimize import minimize_scalar\n",
    "import numpy as np\n",
    "\n",
    "def bs_call_price(S, K, T, r, sigma):\n",
    "    d1 = (np.log(S/K) + (r + 0.5 * sigma**2)*T) / (sigma*np.sqrt(T))\n",
    "    d2 = d1 - sigma*np.sqrt(T)\n",
    "    return S * norm.cdf(d1) - K * np.exp(-r*T) * norm.cdf(d2)\n",
    "\n",
    "def implied_volatility(S, K, T, r, market_price):\n",
    "    loss_fn = lambda sigma: (bs_call_price(S, K, T, r, sigma) - market_price)**2\n",
    "    result = minimize_scalar(loss_fn, bounds=(1e-4, 3.0), method='bounded')\n",
    "    return result.x\n",
    "\n",
    "def calculate_iv(df):\n",
    "    df = df.copy()\n",
    "    strick_prices = [9500, 9750, 10000, 10250, 10500]\n",
    "    for strick_price in strick_prices:\n",
    "        df['iv_' + str(strick_price)] = df.apply(lambda row: implied_volatility(\n",
    "            row['VOLCANIC_ROCK'], strick_price, row['T'], 0, row['VOLCANIC_ROCK_VOUCHER_' + str(strick_price)]), axis=1)\n",
    "    return df\n",
    "\n",
    "from sklearn.linear_model import LinearRegression\n",
    "\n",
    "def weighted_linear_predict(y, window=10):\n",
    "    if len(y) < window:\n",
    "        return np.nan\n",
    "    y = np.array(y[-window:])\n",
    "    X = np.arange(window).reshape(-1, 1)\n",
    "    weights = np.exp(-0.1 * (window - np.arange(window)))  # 越近权重越大\n",
    "    model = LinearRegression()\n",
    "    model.fit(X, y, sample_weight=weights)\n",
    "    return model.predict([[window]])[0] \n",
    "\n",
    "def predict_fair_price(df):\n",
    "    df = df.copy()\n",
    "    strick_prices = [9500, 9750, 10000, 10250, 10500]\n",
    "    for strick_price in strick_prices:\n",
    "        df['predicted_iv_' + str(strick_price)] = df['iv_' + str(strick_price)].rolling(window=10).apply(weighted_linear_predict, raw=False)\n",
    "        df['fair_price_' + str(strick_price)] = df.apply(lambda row: bs_call_price(\n",
    "            row['VOLCANIC_ROCK'], strick_price, row['T'], 0, row['predicted_iv_' + str(strick_price)]), axis=1)\n",
    "        df['delta_' + str(strick_price)] = df['fair_price_' + str(strick_price)] - df['VOLCANIC_ROCK_VOUCHER_' + str(strick_price)]\n",
    "    df.dropna(inplace=True)\n",
    "    return df"
   ]
  },
  {
   "cell_type": "code",
   "execution_count": 21,
   "id": "b68dbdc9",
   "metadata": {},
   "outputs": [],
   "source": [
    "def preprocess(df):\n",
    "    df = df.copy()\n",
    "    df = calculate_iv(df)\n",
    "    df = predict_fair_price(df)\n",
    "    return df"
   ]
  },
  {
   "cell_type": "code",
   "execution_count": null,
   "id": "1f8a8bf9",
   "metadata": {},
   "outputs": [],
   "source": [
    "df_mid_0 = preprocess(df_mid_0)\n",
    "df_mid_1 = preprocess(df_mid_1)\n",
    "df_mid_2 = preprocess(df_mid_2)\n",
    "df_mid_0.to_csv('day0.csv')\n",
    "df_mid_1.to_csv('day1.csv')\n",
    "df_mid_2.to_csv('day2.csv')"
   ]
  },
  {
   "cell_type": "code",
   "execution_count": null,
   "id": "8287e9fd",
   "metadata": {},
   "outputs": [],
   "source": [
    "\n"
   ]
  }
 ],
 "metadata": {
  "kernelspec": {
   "display_name": "machinelearning",
   "language": "python",
   "name": "python3"
  },
  "language_info": {
   "codemirror_mode": {
    "name": "ipython",
    "version": 3
   },
   "file_extension": ".py",
   "mimetype": "text/x-python",
   "name": "python",
   "nbconvert_exporter": "python",
   "pygments_lexer": "ipython3",
   "version": "3.9.15"
  }
 },
 "nbformat": 4,
 "nbformat_minor": 5
}
